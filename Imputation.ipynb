{
 "cells": [
  {
   "cell_type": "markdown",
   "id": "1f0e9d4a",
   "metadata": {},
   "source": [
    "# Exploration des données"
   ]
  },
  {
   "cell_type": "markdown",
   "id": "cc52d081",
   "metadata": {},
   "source": [
    "## Import des bibliothèques"
   ]
  },
  {
   "cell_type": "code",
   "id": "b6611b7aca44d20d",
   "metadata": {
    "ExecuteTime": {
     "end_time": "2025-03-09T14:06:36.433329Z",
     "start_time": "2025-03-09T14:06:36.430125Z"
    }
   },
   "source": [
    "import pandas as pd\n",
    "import statsmodels.api as sm\n",
    "from statsmodels.graphics.tsaplots import plot_acf\n",
    "import numpy as np\n",
    "from sklearn.impute import SimpleImputer\n",
    "from sklearn.metrics import mean_absolute_error, mean_squared_error\n",
    "import matplotlib.pyplot as plt"
   ],
   "outputs": [],
   "execution_count": 107
  },
  {
   "cell_type": "markdown",
   "id": "463687cb",
   "metadata": {},
   "source": [
    "## Chargement des données"
   ]
  },
  {
   "cell_type": "code",
   "id": "initial_id",
   "metadata": {
    "collapsed": true,
    "ExecuteTime": {
     "end_time": "2025-03-09T14:06:36.519102Z",
     "start_time": "2025-03-09T14:06:36.481257Z"
    }
   },
   "source": [
    "X_test_full = pd.read_csv('./datas/X_test.csv')\n",
    "y_test_full = pd.read_csv('./datas/Y_test.csv')\n",
    "\n",
    "#Import des datas train\n",
    "X_train_full = pd.read_csv('./datas/X_train.csv')\n",
    "Y_train_full = pd.read_csv('./datas/y_train.csv')"
   ],
   "outputs": [],
   "execution_count": 108
  },
  {
   "cell_type": "markdown",
   "id": "59a942b3",
   "metadata": {},
   "source": [
    "## Nos Y"
   ]
  },
  {
   "cell_type": "code",
   "id": "3cb076ad",
   "metadata": {
    "ExecuteTime": {
     "end_time": "2025-03-09T14:06:36.928288Z",
     "start_time": "2025-03-09T14:06:36.526334Z"
    }
   },
   "source": [
    "y = Y_train_full\n",
    "\n",
    "# Calcul de l'autocorrélation\n",
    "autocorrelation = y['spot_id_delta'].autocorr()\n",
    "print(f\"Autocorrélation de 'spot_id_delta' avec elle-même: {autocorrelation}\")\n",
    "\n",
    "# Calcul et affichage de la fonction d'autocorrélation (ACF)\n",
    "acf_values = sm.tsa.acf(y['spot_id_delta'], nlags=40)\n",
    "print(\"Valeurs de la fonction d'autocorrélation (ACF):\")\n",
    "print(acf_values)\n",
    "\n",
    "# Tracé de la fonction d'autocorrélation\n",
    "plot_acf(y['spot_id_delta'], lags=40)\n",
    "plt.show()\n",
    "\n",
    "# Test de Ljung-Box pour vérifier l'autocorrélation\n",
    "ljung_box_test = sm.stats.acorr_ljungbox(y['spot_id_delta'], lags=[10], return_df=True)\n",
    "print(\"Résultats du test de Ljung-Box:\")\n",
    "print(ljung_box_test)"
   ],
   "outputs": [
    {
     "name": "stdout",
     "output_type": "stream",
     "text": [
      "Autocorrélation de 'spot_id_delta' avec elle-même: 0.7107856450514393\n",
      "Valeurs de la fonction d'autocorrélation (ACF):\n",
      "[1.         0.71074701 0.47685964 0.40240408 0.33960978 0.30442121\n",
      " 0.27829575 0.25328681 0.23024765 0.22021387 0.18443277 0.16772724\n",
      " 0.14697851 0.11911646 0.10465129 0.09486627 0.08327889 0.07451282\n",
      " 0.0649726  0.0489283  0.03842826 0.03846234 0.04162649 0.05365476\n",
      " 0.05918062 0.04662237 0.0372881  0.02444906 0.01198338 0.00770723\n",
      " 0.00662887 0.00497258 0.00935978 0.01682656 0.02434564 0.03376427\n",
      " 0.0459359  0.04687686 0.04349781 0.04708764 0.0475077 ]\n"
     ]
    },
    {
     "data": {
      "text/plain": [
       "<Figure size 640x480 with 1 Axes>"
      ],
      "image/png": "[encoded data removed]"
     },
     "metadata": {},
     "output_type": "display_data"
    },
    {
     "name": "stdout",
     "output_type": "stream",
     "text": [
      "Résultats du test de Ljung-Box:\n",
      "         lb_stat  lb_pvalue\n",
      "10  14638.105284        0.0\n"
     ]
    }
   ],
   "execution_count": 109
  },
  {
   "cell_type": "markdown",
   "id": "d5aee2a9",
   "metadata": {},
   "source": [
    "## Nos X"
   ]
  },
  {
   "cell_type": "code",
   "id": "17786d0ec9717fd7",
   "metadata": {
    "ExecuteTime": {
     "end_time": "2025-03-09T14:06:36.982763Z",
     "start_time": "2025-03-09T14:06:36.972150Z"
    }
   },
   "source": [
    "X_test_full.head()"
   ],
   "outputs": [
    {
     "data": {
      "text/plain": [
       "              DELIVERY_START  load_forecast  coal_power_available  \\\n",
       "0  2023-04-02 00:00:00+02:00        45814.0                3386.0   \n",
       "1  2023-04-02 01:00:00+02:00        44084.0                3386.0   \n",
       "2  2023-04-02 02:00:00+02:00        43281.0                3386.0   \n",
       "3  2023-04-02 03:00:00+02:00        40825.0                3386.0   \n",
       "4  2023-04-02 04:00:00+02:00        39181.0                3386.0   \n",
       "\n",
       "   gas_power_available  nuclear_power_available  wind_power_forecasts_average  \\\n",
       "0              10902.0                  36705.0                        6359.0   \n",
       "1              10902.0                  36705.0                        6469.0   \n",
       "2              10902.0                  36705.0                        6511.0   \n",
       "3              10902.0                  36705.0                        6628.0   \n",
       "4              10902.0                  36705.0                        6700.0   \n",
       "\n",
       "   solar_power_forecasts_average  wind_power_forecasts_std  \\\n",
       "0                            0.0                 56.764535   \n",
       "1                            0.0                 54.262133   \n",
       "2                            0.0                 78.105928   \n",
       "3                            0.0                 78.187557   \n",
       "4                            0.0                 96.765484   \n",
       "\n",
       "   solar_power_forecasts_std  predicted_spot_price  \n",
       "0                        0.0                   NaN  \n",
       "1                        0.0                   NaN  \n",
       "2                        0.0                   NaN  \n",
       "3                        0.0                   NaN  \n",
       "4                        0.0                   NaN  "
      ],
      "text/html": [
       "<div>\n",
       "<style scoped>\n",
       "    .dataframe tbody tr th:only-of-type {\n",
       "        vertical-align: middle;\n",
       "    }\n",
       "\n",
       "    .dataframe tbody tr th {\n",
       "        vertical-align: top;\n",
       "    }\n",
       "\n",
       "    .dataframe thead th {\n",
       "        text-align: right;\n",
       "    }\n",
       "</style>\n",
       "<table border=\"1\" class=\"dataframe\">\n",
       "  <thead>\n",
       "    <tr style=\"text-align: right;\">\n",
       "      <th></th>\n",
       "      <th>DELIVERY_START</th>\n",
       "      <th>load_forecast</th>\n",
       "      <th>coal_power_available</th>\n",
       "      <th>gas_power_available</th>\n",
       "      <th>nuclear_power_available</th>\n",
       "      <th>wind_power_forecasts_average</th>\n",
       "      <th>solar_power_forecasts_average</th>\n",
       "      <th>wind_power_forecasts_std</th>\n",
       "      <th>solar_power_forecasts_std</th>\n",
       "      <th>predicted_spot_price</th>\n",
       "    </tr>\n",
       "  </thead>\n",
       "  <tbody>\n",
       "    <tr>\n",
       "      <th>0</th>\n",
       "      <td>2023-04-02 00:00:00+02:00</td>\n",
       "      <td>45814.0</td>\n",
       "      <td>3386.0</td>\n",
       "      <td>10902.0</td>\n",
       "      <td>36705.0</td>\n",
       "      <td>6359.0</td>\n",
       "      <td>0.0</td>\n",
       "      <td>56.764535</td>\n",
       "      <td>0.0</td>\n",
       "      <td>NaN</td>\n",
       "    </tr>\n",
       "    <tr>\n",
       "      <th>1</th>\n",
       "      <td>2023-04-02 01:00:00+02:00</td>\n",
       "      <td>44084.0</td>\n",
       "      <td>3386.0</td>\n",
       "      <td>10902.0</td>\n",
       "      <td>36705.0</td>\n",
       "      <td>6469.0</td>\n",
       "      <td>0.0</td>\n",
       "      <td>54.262133</td>\n",
       "      <td>0.0</td>\n",
       "      <td>NaN</td>\n",
       "    </tr>\n",
       "    <tr>\n",
       "      <th>2</th>\n",
       "      <td>2023-04-02 02:00:00+02:00</td>\n",
       "      <td>43281.0</td>\n",
       "      <td>3386.0</td>\n",
       "      <td>10902.0</td>\n",
       "      <td>36705.0</td>\n",
       "      <td>6511.0</td>\n",
       "      <td>0.0</td>\n",
       "      <td>78.105928</td>\n",
       "      <td>0.0</td>\n",
       "      <td>NaN</td>\n",
       "    </tr>\n",
       "    <tr>\n",
       "      <th>3</th>\n",
       "      <td>2023-04-02 03:00:00+02:00</td>\n",
       "      <td>40825.0</td>\n",
       "      <td>3386.0</td>\n",
       "      <td>10902.0</td>\n",
       "      <td>36705.0</td>\n",
       "      <td>6628.0</td>\n",
       "      <td>0.0</td>\n",
       "      <td>78.187557</td>\n",
       "      <td>0.0</td>\n",
       "      <td>NaN</td>\n",
       "    </tr>\n",
       "    <tr>\n",
       "      <th>4</th>\n",
       "      <td>2023-04-02 04:00:00+02:00</td>\n",
       "      <td>39181.0</td>\n",
       "      <td>3386.0</td>\n",
       "      <td>10902.0</td>\n",
       "      <td>36705.0</td>\n",
       "      <td>6700.0</td>\n",
       "      <td>0.0</td>\n",
       "      <td>96.765484</td>\n",
       "      <td>0.0</td>\n",
       "      <td>NaN</td>\n",
       "    </tr>\n",
       "  </tbody>\n",
       "</table>\n",
       "</div>"
      ]
     },
     "execution_count": 110,
     "metadata": {},
     "output_type": "execute_result"
    }
   ],
   "execution_count": 110
  },
  {
   "cell_type": "code",
   "id": "9d2dfdd878ea3a6b",
   "metadata": {
    "ExecuteTime": {
     "end_time": "2025-03-09T14:06:37.070918Z",
     "start_time": "2025-03-09T14:06:37.053163Z"
    }
   },
   "source": [
    "print(X_train_full.describe())\n"
   ],
   "outputs": [
    {
     "name": "stdout",
     "output_type": "stream",
     "text": [
      "       load_forecast  coal_power_available  gas_power_available  \\\n",
      "count    9318.000000          10604.000000         10604.000000   \n",
      "mean    53725.132968           2819.781592         11463.220671   \n",
      "std     11274.194929            495.103588           483.799154   \n",
      "min     30515.000000           1646.000000          9769.000000   \n",
      "25%     45336.500000           2226.000000         11140.000000   \n",
      "50%     51846.000000           2806.000000         11487.000000   \n",
      "75%     62091.750000           3386.000000         11945.000000   \n",
      "max     85145.000000           3391.000000         11963.000000   \n",
      "\n",
      "       nuclear_power_available  wind_power_forecasts_average  \\\n",
      "count             10604.000000                  10581.000000   \n",
      "mean              35393.282252                   4512.989415   \n",
      "std                7619.820162                   3349.419356   \n",
      "min               22285.000000                    592.000000   \n",
      "25%               29005.000000                   2036.000000   \n",
      "50%               32470.000000                   3319.000000   \n",
      "75%               43055.000000                   5951.000000   \n",
      "max               50122.000000                  15167.000000   \n",
      "\n",
      "       solar_power_forecasts_average  wind_power_forecasts_std  \\\n",
      "count                   10581.000000              10581.000000   \n",
      "mean                     1919.281353                125.399422   \n",
      "std                      2706.963383                132.152875   \n",
      "min                         0.000000                  1.830211   \n",
      "25%                         0.000000                 46.818974   \n",
      "50%                       149.000000                 86.700163   \n",
      "75%                      3507.000000                155.325644   \n",
      "max                     10127.000000               1871.571992   \n",
      "\n",
      "       solar_power_forecasts_std  predicted_spot_price  \n",
      "count               10581.000000           1846.000000  \n",
      "mean                   24.997384            140.256024  \n",
      "std                    43.083977             33.922669  \n",
      "min                     0.000000             42.420000  \n",
      "25%                     0.000000            119.405000  \n",
      "50%                     3.507229            140.040000  \n",
      "75%                    35.137019            160.765000  \n",
      "max                   745.261316            254.190000  \n"
     ]
    }
   ],
   "execution_count": 111
  },
  {
   "cell_type": "code",
   "id": "9f3de124ed5366aa",
   "metadata": {
    "ExecuteTime": {
     "end_time": "2025-03-09T14:06:37.121911Z",
     "start_time": "2025-03-09T14:06:37.112106Z"
    }
   },
   "source": [
    "print(X_train_full.info())"
   ],
   "outputs": [
    {
     "name": "stdout",
     "output_type": "stream",
     "text": [
      "<class 'pandas.core.frame.DataFrame'>\n",
      "RangeIndex: 10605 entries, 0 to 10604\n",
      "Data columns (total 10 columns):\n",
      " #   Column                         Non-Null Count  Dtype  \n",
      "---  ------                         --------------  -----  \n",
      " 0   DELIVERY_START                 10605 non-null  object \n",
      " 1   load_forecast                  9318 non-null   float64\n",
      " 2   coal_power_available           10604 non-null  float64\n",
      " 3   gas_power_available            10604 non-null  float64\n",
      " 4   nuclear_power_available        10604 non-null  float64\n",
      " 5   wind_power_forecasts_average   10581 non-null  float64\n",
      " 6   solar_power_forecasts_average  10581 non-null  float64\n",
      " 7   wind_power_forecasts_std       10581 non-null  float64\n",
      " 8   solar_power_forecasts_std      10581 non-null  float64\n",
      " 9   predicted_spot_price           1846 non-null   float64\n",
      "dtypes: float64(9), object(1)\n",
      "memory usage: 828.6+ KB\n",
      "None\n"
     ]
    }
   ],
   "execution_count": 112
  },
  {
   "cell_type": "code",
   "id": "de98d4be3bede5cf",
   "metadata": {
    "ExecuteTime": {
     "end_time": "2025-03-09T14:06:37.187224Z",
     "start_time": "2025-03-09T14:06:37.184417Z"
    }
   },
   "source": [
    "# load_forecast: Prévision de charge électrique (12% manquantes)\n",
    "# coal_power_available: Capacité disponible des centrales à charbon\n",
    "# gas_power_available: Capacité disponible des centrales à gaz\n",
    "# nuclear_power_available: Capacité disponible des centrales nucléaires\n",
    "#A noter ques coal, gas et nuclear sont en données journalières !!\n",
    "# wind_power_forecasts_average: Prévision moyenne de production éolienne\n",
    "# solar_power_forecasts_average: Prévision moyenne de production solaire (manquantes la nuit ~100% entre 23h-4h)\n",
    "# wind_power_forecasts_std: Écart-type des prévisions de production éolienne\n",
    "# solar_power_forecasts_std: Écart-type des prévisions de production solaire (manque quand solar_average manque)\n",
    "# predicted_spot_price: Prix spot prévu (82% manquantes - probablement la variable à prédire)\n",
    "#\n",
    "# Note: Les valeurs manquantes pour solar_ s'expliquent par l'absence de production solaire la nuit. --> Pour ces colonnes, pas d'imputation prévu, mais il y a des Nan sur un jour"
   ],
   "outputs": [],
   "execution_count": 113
  },
  {
   "cell_type": "markdown",
   "id": "4c82ee42",
   "metadata": {},
   "source": [
    "## Traitement des varaibles manquantes"
   ]
  },
  {
   "cell_type": "markdown",
   "id": "c95616be429362b9",
   "metadata": {},
   "source": [
    "### load_forcast imputation"
   ]
  },
  {
   "cell_type": "code",
   "id": "47efe0bcd9c1c479",
   "metadata": {
    "ExecuteTime": {
     "end_time": "2025-03-09T14:06:37.314931Z",
     "start_time": "2025-03-09T14:06:37.281262Z"
    }
   },
   "source": [
    "# Charger les données\n",
    "print(\"Chargement des données...\")\n",
    "df = pd.read_csv('datas/X_train.csv')\n",
    "\n",
    "df['hour'] = df['DELIVERY_START'].astype(str).str.extract(r'(\\d{2}):\\d{2}:\\d{2}').astype(int)\n",
    "\n",
    "\n",
    "#On fait des tests avec différentes méthodes\n",
    "missing_mask = df['load_forecast'].isna()\n",
    "print(f\"Nombre de valeurs manquantes dans load_forecast: {missing_mask.sum()} sur {len(df)}\")\n",
    "\n",
    "# Créer un ensemble de test en masquant 10% des valeurs connues pour évaluation\n",
    "df_complete = df[~missing_mask].copy()\n",
    "np.random.seed(42)\n",
    "n_samples = len(df_complete)\n",
    "n_missing_test = int(n_samples * 0.1)\n",
    "test_indices = np.random.choice(df_complete.index, n_missing_test, replace=False)\n",
    "\n",
    "df_eval = df_complete.copy()\n",
    "true_values = df_eval.loc[test_indices, 'load_forecast'].copy()\n",
    "df_eval.loc[test_indices, 'load_forecast'] = np.nan\n",
    "\n",
    "results = []\n",
    "\n",
    "# Fonction pour évaluer l'imputation\n",
    "def evaluate_method(imputed_values, true_values, method_name):\n",
    "    mae = mean_absolute_error(true_values, imputed_values)\n",
    "    rmse = np.sqrt(mean_squared_error(true_values, imputed_values))\n",
    "    mape = np.mean(np.abs((true_values - imputed_values) / true_values)) * 100\n",
    "\n",
    "    print(f\"\\n{method_name}:\")\n",
    "    print(f\"MAE: {mae:.2f}\")\n",
    "    print(f\"RMSE: {rmse:.2f}\")\n",
    "    print(f\"MAPE: {mape:.2f}%\")\n",
    "\n",
    "    return {'method': method_name, 'mae': mae, 'rmse': rmse, 'mape': mape}"
   ],
   "outputs": [
    {
     "name": "stdout",
     "output_type": "stream",
     "text": [
      "Chargement des données...\n",
      "Nombre de valeurs manquantes dans load_forecast: 1287 sur 10605\n"
     ]
    }
   ],
   "execution_count": 114
  },
  {
   "cell_type": "code",
   "id": "71da4faead11f1c2",
   "metadata": {
    "ExecuteTime": {
     "end_time": "2025-03-09T14:06:37.359024Z",
     "start_time": "2025-03-09T14:06:37.323772Z"
    }
   },
   "source": [
    "# 1. Imputation par la moyenne globale\n",
    "df_mean = df_eval.copy()\n",
    "mean_imputer = SimpleImputer(strategy='mean')\n",
    "df_mean['load_forecast'] = mean_imputer.fit_transform(df_mean[['load_forecast']])\n",
    "imputed_values = df_mean.loc[test_indices, 'load_forecast']\n",
    "results.append(evaluate_method(imputed_values, true_values, \"Moyenne globale\"))\n",
    "\n",
    "# 2. Imputation par la médiane globale\n",
    "df_median = df_eval.copy()\n",
    "median_imputer = SimpleImputer(strategy='median')\n",
    "df_median['load_forecast'] = median_imputer.fit_transform(df_median[['load_forecast']])\n",
    "imputed_values = df_median.loc[test_indices, 'load_forecast']\n",
    "results.append(evaluate_method(imputed_values, true_values, \"Médiane globale\"))\n",
    "\n",
    "# 3. Imputation par la moyenne par heure\n",
    "print(\"\\nTest de l'imputation par moyenne par heure...\")\n",
    "df_hour_mean = df_eval.copy()\n",
    "hour_means = df_complete.groupby('hour')['load_forecast'].mean()\n",
    "for hour, mean_value in hour_means.items():\n",
    "    hour_missing = (df_hour_mean['hour'] == hour) & df_hour_mean['load_forecast'].isna()\n",
    "    df_hour_mean.loc[hour_missing, 'load_forecast'] = mean_value\n",
    "imputed_values = df_hour_mean.loc[test_indices, 'load_forecast']\n",
    "results.append(evaluate_method(imputed_values, true_values, \"Moyenne par heure\"))\n",
    "\n",
    "# 4. Imputation par la médiane par heure\n",
    "print(\"\\nTest de l'imputation par médiane par heure...\")\n",
    "df_hour_median = df_eval.copy()\n",
    "hour_medians = df_complete.groupby('hour')['load_forecast'].median()\n",
    "for hour, median_value in hour_medians.items():\n",
    "    hour_missing = (df_hour_median['hour'] == hour) & df_hour_median['load_forecast'].isna()\n",
    "    df_hour_median.loc[hour_missing, 'load_forecast'] = median_value\n",
    "imputed_values = df_hour_median.loc[test_indices, 'load_forecast']\n",
    "results.append(evaluate_method(imputed_values, true_values, \"Médiane par heure\"))"
   ],
   "outputs": [
    {
     "name": "stdout",
     "output_type": "stream",
     "text": [
      "\n",
      "Moyenne globale:\n",
      "MAE: 9051.48\n",
      "RMSE: 10982.29\n",
      "MAPE: 17.24%\n",
      "\n",
      "Médiane globale:\n",
      "MAE: 8979.44\n",
      "RMSE: 11194.59\n",
      "MAPE: 16.51%\n",
      "\n",
      "Test de l'imputation par moyenne par heure...\n",
      "\n",
      "Moyenne par heure:\n",
      "MAE: 8963.10\n",
      "RMSE: 10555.74\n",
      "MAPE: 16.92%\n",
      "\n",
      "Test de l'imputation par médiane par heure...\n",
      "\n",
      "Médiane par heure:\n",
      "MAE: 8859.52\n",
      "RMSE: 10784.56\n",
      "MAPE: 16.14%\n"
     ]
    }
   ],
   "execution_count": 115
  },
  {
   "cell_type": "code",
   "id": "21f9ac3bd57e2542",
   "metadata": {
    "ExecuteTime": {
     "end_time": "2025-03-09T14:06:37.419348Z",
     "start_time": "2025-03-09T14:06:37.400682Z"
    }
   },
   "source": [
    "df_imputed = df.copy()\n",
    "\n",
    "# Application directe de la médiane par heure\n",
    "for hour, median_value in hour_medians.items():\n",
    "    hour_missing = (df_imputed['hour'] == hour) & missing_mask\n",
    "    df_imputed.loc[hour_missing, 'load_forecast'] = median_value\n",
    "    print(f\"Imputation pour heure {hour}: {median_value:.2f} (pour {hour_missing.sum()} valeurs)\")\n",
    "\n",
    "df_imputed.info()"
   ],
   "outputs": [
    {
     "name": "stdout",
     "output_type": "stream",
     "text": [
      "Imputation pour heure 0: 50314.00 (pour 54 valeurs)\n",
      "Imputation pour heure 1: 48909.50 (pour 54 valeurs)\n",
      "Imputation pour heure 2: 48346.00 (pour 54 valeurs)\n",
      "Imputation pour heure 3: 46014.00 (pour 54 valeurs)\n",
      "Imputation pour heure 4: 45055.00 (pour 54 valeurs)\n",
      "Imputation pour heure 5: 45659.00 (pour 54 valeurs)\n",
      "Imputation pour heure 6: 49414.00 (pour 54 valeurs)\n",
      "Imputation pour heure 7: 52404.00 (pour 54 valeurs)\n",
      "Imputation pour heure 8: 54396.00 (pour 54 valeurs)\n",
      "Imputation pour heure 9: 55503.50 (pour 54 valeurs)\n",
      "Imputation pour heure 10: 55728.50 (pour 54 valeurs)\n",
      "Imputation pour heure 11: 56056.00 (pour 54 valeurs)\n",
      "Imputation pour heure 12: 55915.50 (pour 54 valeurs)\n",
      "Imputation pour heure 13: 54417.50 (pour 54 valeurs)\n",
      "Imputation pour heure 14: 52855.00 (pour 54 valeurs)\n",
      "Imputation pour heure 15: 51256.00 (pour 53 valeurs)\n",
      "Imputation pour heure 16: 49988.50 (pour 53 valeurs)\n",
      "Imputation pour heure 17: 51252.00 (pour 53 valeurs)\n",
      "Imputation pour heure 18: 54284.00 (pour 53 valeurs)\n",
      "Imputation pour heure 19: 55877.50 (pour 53 valeurs)\n",
      "Imputation pour heure 20: 53524.50 (pour 53 valeurs)\n",
      "Imputation pour heure 21: 51274.00 (pour 53 valeurs)\n",
      "Imputation pour heure 22: 51671.00 (pour 53 valeurs)\n",
      "Imputation pour heure 23: 52315.00 (pour 53 valeurs)\n",
      "<class 'pandas.core.frame.DataFrame'>\n",
      "RangeIndex: 10605 entries, 0 to 10604\n",
      "Data columns (total 11 columns):\n",
      " #   Column                         Non-Null Count  Dtype  \n",
      "---  ------                         --------------  -----  \n",
      " 0   DELIVERY_START                 10605 non-null  object \n",
      " 1   load_forecast                  10605 non-null  float64\n",
      " 2   coal_power_available           10604 non-null  float64\n",
      " 3   gas_power_available            10604 non-null  float64\n",
      " 4   nuclear_power_available        10604 non-null  float64\n",
      " 5   wind_power_forecasts_average   10581 non-null  float64\n",
      " 6   solar_power_forecasts_average  10581 non-null  float64\n",
      " 7   wind_power_forecasts_std       10581 non-null  float64\n",
      " 8   solar_power_forecasts_std      10581 non-null  float64\n",
      " 9   predicted_spot_price           1846 non-null   float64\n",
      " 10  hour                           10605 non-null  int64  \n",
      "dtypes: float64(9), int64(1), object(1)\n",
      "memory usage: 911.5+ KB\n"
     ]
    }
   ],
   "execution_count": 116
  },
  {
   "cell_type": "code",
   "id": "4b1871580667bfd7",
   "metadata": {
    "ExecuteTime": {
     "end_time": "2025-03-09T14:06:37.728815Z",
     "start_time": "2025-03-09T14:06:37.469135Z"
    }
   },
   "source": [
    "# Visualiser les distributions avant/après imputation\n",
    "plt.figure(figsize=(12, 5))\n",
    "plt.subplot(1, 2, 1)\n",
    "df[~missing_mask]['load_forecast'].hist(bins=30, alpha=0.7)\n",
    "plt.title(\"Distribution originale\")\n",
    "plt.xlabel(\"load_forecast\")\n",
    "plt.ylabel(\"Fréquence\")\n",
    "\n",
    "plt.subplot(1, 2, 2)\n",
    "df_imputed['load_forecast'].hist(bins=30, alpha=0.7)\n",
    "plt.title(f\"Distribution après imputation médianne par heure\")\n",
    "plt.xlabel(\"load_forecast\")\n",
    "plt.ylabel(\"Fréquence\")\n",
    "\n",
    "plt.tight_layout()"
   ],
   "outputs": [
    {
     "data": {
      "text/plain": [
       "<Figure size 1200x500 with 2 Axes>"
      ],
      "image/png": "[encoded data removed]"
     },
     "metadata": {},
     "output_type": "display_data"
    }
   ],
   "execution_count": 117
  },
  {
   "cell_type": "markdown",
   "id": "c7f353f2f1cc6a5c",
   "metadata": {},
   "source": [
    "### wind_power_forecasts_average"
   ]
  },
  {
   "cell_type": "code",
   "id": "397a4aaea22adaa8",
   "metadata": {
    "ExecuteTime": {
     "end_time": "2025-03-09T14:06:37.970237Z",
     "start_time": "2025-03-09T14:06:37.773779Z"
    }
   },
   "source": [
    "df_sorted = df_imputed.sort_values('DELIVERY_START')\n",
    "\n",
    "\n",
    "serie_complete = df_sorted['wind_power_forecasts_average'].dropna()\n",
    "\n",
    "# Calculer la corrélation globale entre chaque point et son suivant\n",
    "global_corr = np.corrcoef(serie_complete[:-1], serie_complete[1:])[0, 1]\n",
    "print(\"Corrélation globale :\", global_corr)\n",
    "\n",
    "# Fonction pour calculer la corrélation locale (entre t-1 et t+1)\n",
    "def calculate_local_correlation(data):\n",
    "    # On utilise uniquement les indices où t-1 et t+1 existent\n",
    "    x_vals = []\n",
    "    y_vals = []\n",
    "    for i in range(1, len(data) - 1):\n",
    "        x_vals.append(data.iloc[i-1])\n",
    "        y_vals.append(data.iloc[i+1])\n",
    "    return np.corrcoef(x_vals, y_vals)[0, 1]\n",
    "\n",
    "# Calculer la corrélation locale avant interpolation\n",
    "local_corr_originale = calculate_local_correlation(serie_complete)\n",
    "print(\"Corrélation locale originale :\", local_corr_originale)\n",
    "\n",
    "# Créer des copies pour les interpolations\n",
    "df_linear = df_sorted.copy()\n",
    "df_cubic = df_sorted.copy()\n",
    "\n",
    "# Interpolation linéaire\n",
    "df_linear['wind_power_forecasts_average'] = df_linear['wind_power_forecasts_average'].interpolate(method='linear')\n",
    "df_linear['wind_power_forecasts_average'] = df_linear['wind_power_forecasts_average'].fillna(method='ffill').fillna(method='bfill')\n",
    "\n",
    "# Interpolation cubique\n",
    "df_cubic['wind_power_forecasts_average'] = df_cubic['wind_power_forecasts_average'].interpolate(method='cubic')\n",
    "df_cubic['wind_power_forecasts_average'] = df_cubic['wind_power_forecasts_average'].fillna(method='ffill').fillna(method='bfill')\n",
    "\n",
    "# Pour le calcul, recréer les séries sans NaN\n",
    "serie_linear = df_linear['wind_power_forecasts_average']\n",
    "serie_cubic = df_cubic['wind_power_forecasts_average']\n",
    "\n",
    "# Calculer la corrélation globale après interpolation\n",
    "global_corr_linear = np.corrcoef(serie_linear[:-1], serie_linear[1:])[0, 1]\n",
    "global_corr_cubic  = np.corrcoef(serie_cubic[:-1], serie_cubic[1:])[0, 1]\n",
    "\n",
    "# Calculer la corrélation locale après interpolation\n",
    "local_corr_linear = calculate_local_correlation(serie_linear)\n",
    "local_corr_cubic  = calculate_local_correlation(serie_cubic)\n",
    "\n",
    "# Comparaison des corrélations\n",
    "print(\"\\nComparaison des corrélations :\")\n",
    "print(f\"Corrélation globale - Originale : {global_corr}\")\n",
    "print(f\"Corrélation locale - Originale  : {local_corr_originale}\")\n",
    "\n",
    "# Ajout des valeurs imputées (ici issues de l'interpolation cubique) dans df_imputed\n",
    "df_imputed['wind_power_forecasts_average'] = (\n",
    "    df_cubic)['wind_power_forecasts_average']"
   ],
   "outputs": [
    {
     "name": "stdout",
     "output_type": "stream",
     "text": [
      "Corrélation globale : 0.995048111685808\n",
      "Corrélation locale originale : 0.9825621729411801\n",
      "\n",
      "Comparaison des corrélations :\n",
      "Corrélation globale - Originale : 0.995048111685808\n",
      "Corrélation locale - Originale  : 0.9825621729411801\n"
     ]
    },
    {
     "name": "stderr",
     "output_type": "stream",
     "text": [
      "C:\\Users\\tmont\\AppData\\Local\\Temp\\ipykernel_29312\\3589865665.py:30: FutureWarning: Series.fillna with 'method' is deprecated and will raise in a future version. Use obj.ffill() or obj.bfill() instead.\n",
      "  df_linear['wind_power_forecasts_average'] = df_linear['wind_power_forecasts_average'].fillna(method='ffill').fillna(method='bfill')\n",
      "C:\\Users\\tmont\\AppData\\Local\\Temp\\ipykernel_29312\\3589865665.py:34: FutureWarning: Series.fillna with 'method' is deprecated and will raise in a future version. Use obj.ffill() or obj.bfill() instead.\n",
      "  df_cubic['wind_power_forecasts_average'] = df_cubic['wind_power_forecasts_average'].fillna(method='ffill').fillna(method='bfill')\n"
     ]
    }
   ],
   "execution_count": 118
  },
  {
   "cell_type": "code",
   "id": "ce14e524f9d3bd7f",
   "metadata": {
    "ExecuteTime": {
     "end_time": "2025-03-09T14:06:38.023686Z",
     "start_time": "2025-03-09T14:06:38.017340Z"
    }
   },
   "source": [
    "df_imputed.info()"
   ],
   "outputs": [
    {
     "name": "stdout",
     "output_type": "stream",
     "text": [
      "<class 'pandas.core.frame.DataFrame'>\n",
      "RangeIndex: 10605 entries, 0 to 10604\n",
      "Data columns (total 11 columns):\n",
      " #   Column                         Non-Null Count  Dtype  \n",
      "---  ------                         --------------  -----  \n",
      " 0   DELIVERY_START                 10605 non-null  object \n",
      " 1   load_forecast                  10605 non-null  float64\n",
      " 2   coal_power_available           10604 non-null  float64\n",
      " 3   gas_power_available            10604 non-null  float64\n",
      " 4   nuclear_power_available        10604 non-null  float64\n",
      " 5   wind_power_forecasts_average   10605 non-null  float64\n",
      " 6   solar_power_forecasts_average  10581 non-null  float64\n",
      " 7   wind_power_forecasts_std       10581 non-null  float64\n",
      " 8   solar_power_forecasts_std      10581 non-null  float64\n",
      " 9   predicted_spot_price           1846 non-null   float64\n",
      " 10  hour                           10605 non-null  int64  \n",
      "dtypes: float64(9), int64(1), object(1)\n",
      "memory usage: 911.5+ KB\n"
     ]
    }
   ],
   "execution_count": 119
  },
  {
   "cell_type": "markdown",
   "id": "cb1f63071b87ac1a",
   "metadata": {},
   "source": [
    "### wind_power_forecasts_std"
   ]
  },
  {
   "cell_type": "code",
   "id": "12e9e4581b114551",
   "metadata": {
    "ExecuteTime": {
     "end_time": "2025-03-09T14:06:38.321613Z",
     "start_time": "2025-03-09T14:06:38.115096Z"
    }
   },
   "source": [
    "df_sorted = df_imputed.sort_values('DELIVERY_START')\n",
    "\n",
    "# On s'assure de travailler sur la série sans NaN pour le calcul global\n",
    "serie_complete = df_sorted['wind_power_forecasts_std'].dropna()\n",
    "\n",
    "# Calculer la corrélation globale entre chaque point et son suivant\n",
    "global_corr = np.corrcoef(serie_complete[:-1], serie_complete[1:])[0, 1]\n",
    "print(\"Corrélation globale :\", global_corr)\n",
    "\n",
    "\n",
    "# Calculer la corrélation locale avant interpolation\n",
    "local_corr_originale = calculate_local_correlation(serie_complete)\n",
    "print(\"Corrélation locale originale :\", local_corr_originale)\n",
    "\n",
    "# Créer des copies pour les interpolations\n",
    "df_linear = df_sorted.copy()\n",
    "df_cubic = df_sorted.copy()\n",
    "\n",
    "# Interpolation linéaire\n",
    "df_linear['wind_power_forecasts_std'] = df_linear['wind_power_forecasts_std'].interpolate(method='linear')\n",
    "df_linear['wind_power_forecasts_std'] = df_linear['wind_power_forecasts_std'].fillna(method='ffill').fillna(method='bfill')\n",
    "\n",
    "# Interpolation cubique\n",
    "df_cubic['wind_power_forecasts_std'] = df_cubic['wind_power_forecasts_std'].interpolate(method='cubic')\n",
    "df_cubic['wind_power_forecasts_std'] = df_cubic['wind_power_forecasts_std'].fillna(method='ffill').fillna(method='bfill')\n",
    "\n",
    "# Pour le calcul, recréer les séries sans NaN\n",
    "serie_linear = df_linear['wind_power_forecasts_std']\n",
    "serie_cubic = df_cubic['wind_power_forecasts_std']\n",
    "\n",
    "# Calculer la corrélation globale après interpolation\n",
    "global_corr_linear = np.corrcoef(serie_linear[:-1], serie_linear[1:])[0, 1]\n",
    "global_corr_cubic  = np.corrcoef(serie_cubic[:-1], serie_cubic[1:])[0, 1]\n",
    "\n",
    "# Calculer la corrélation locale après interpolation\n",
    "local_corr_linear = calculate_local_correlation(serie_linear)\n",
    "local_corr_cubic  = calculate_local_correlation(serie_cubic)\n",
    "\n",
    "\n",
    "# Sélection de la méthode qui préserve le mieux la structure de corrélation\n",
    "if abs(global_corr_linear - global_corr) < abs(global_corr_cubic - global_corr):\n",
    "    df_imputed['wind_power_forecasts_std'] = df_linear['wind_power_forecasts_std']\n",
    "else:\n",
    "    df_imputed['wind_power_forecasts_std'] = df_cubic['wind_power_forecasts_std']\n",
    "#le spline cibique revient avec de meilleurs résultats"
   ],
   "outputs": [
    {
     "name": "stdout",
     "output_type": "stream",
     "text": [
      "Corrélation globale : 0.8938859075237394\n",
      "Corrélation locale originale : 0.7540894338802255\n"
     ]
    },
    {
     "name": "stderr",
     "output_type": "stream",
     "text": [
      "C:\\Users\\tmont\\AppData\\Local\\Temp\\ipykernel_29312\\1879552614.py:21: FutureWarning: Series.fillna with 'method' is deprecated and will raise in a future version. Use obj.ffill() or obj.bfill() instead.\n",
      "  df_linear['wind_power_forecasts_std'] = df_linear['wind_power_forecasts_std'].fillna(method='ffill').fillna(method='bfill')\n",
      "C:\\Users\\tmont\\AppData\\Local\\Temp\\ipykernel_29312\\1879552614.py:25: FutureWarning: Series.fillna with 'method' is deprecated and will raise in a future version. Use obj.ffill() or obj.bfill() instead.\n",
      "  df_cubic['wind_power_forecasts_std'] = df_cubic['wind_power_forecasts_std'].fillna(method='ffill').fillna(method='bfill')\n"
     ]
    }
   ],
   "execution_count": 120
  },
  {
   "cell_type": "code",
   "id": "97f624bf856ca902",
   "metadata": {
    "ExecuteTime": {
     "end_time": "2025-03-09T14:06:38.340344Z",
     "start_time": "2025-03-09T14:06:38.333083Z"
    }
   },
   "source": [
    "df_imputed.info()"
   ],
   "outputs": [
    {
     "name": "stdout",
     "output_type": "stream",
     "text": [
      "<class 'pandas.core.frame.DataFrame'>\n",
      "RangeIndex: 10605 entries, 0 to 10604\n",
      "Data columns (total 11 columns):\n",
      " #   Column                         Non-Null Count  Dtype  \n",
      "---  ------                         --------------  -----  \n",
      " 0   DELIVERY_START                 10605 non-null  object \n",
      " 1   load_forecast                  10605 non-null  float64\n",
      " 2   coal_power_available           10604 non-null  float64\n",
      " 3   gas_power_available            10604 non-null  float64\n",
      " 4   nuclear_power_available        10604 non-null  float64\n",
      " 5   wind_power_forecasts_average   10605 non-null  float64\n",
      " 6   solar_power_forecasts_average  10581 non-null  float64\n",
      " 7   wind_power_forecasts_std       10605 non-null  float64\n",
      " 8   solar_power_forecasts_std      10581 non-null  float64\n",
      " 9   predicted_spot_price           1846 non-null   float64\n",
      " 10  hour                           10605 non-null  int64  \n",
      "dtypes: float64(9), int64(1), object(1)\n",
      "memory usage: 911.5+ KB\n"
     ]
    }
   ],
   "execution_count": 121
  },
  {
   "cell_type": "markdown",
   "id": "87b7f00f762cb293",
   "metadata": {},
   "source": [
    "### solar_power_forecasts_average"
   ]
  },
  {
   "cell_type": "code",
   "id": "5c3f267eadfd847c",
   "metadata": {
    "ExecuteTime": {
     "end_time": "2025-03-09T14:06:38.426879Z",
     "start_time": "2025-03-09T14:06:38.383090Z"
    }
   },
   "source": [
    "df_sorted = df_imputed.copy()\n",
    "df_sorted['date_string'] = df_sorted['DELIVERY_START'].astype(str).str.split(' ').str[0]\n",
    "df_sorted['hour'] = df_sorted['DELIVERY_START'].astype(str).str.split(' ').str[1].str.split(':').str[0].astype(int)\n",
    "\n",
    "# Définir la date manquante et déterminer les dates de la veille et du lendemain\n",
    "missing_date = '2023-02-20'\n",
    "previous_date = (pd.to_datetime(missing_date) - pd.Timedelta(days=1)).strftime('%Y-%m-%d')\n",
    "next_date = (pd.to_datetime(missing_date) + pd.Timedelta(days=1)).strftime('%Y-%m-%d')\n",
    "\n",
    "# Extraction des données pour la veille et le lendemain\n",
    "prev_data = df_sorted[df_sorted['date_string'] == previous_date][['DELIVERY_START', 'solar_power_forecasts_average', 'hour']]\n",
    "next_data = df_sorted[df_sorted['date_string'] == next_date][['DELIVERY_START', 'solar_power_forecasts_average', 'hour']]\n",
    "\n",
    "# Création de dictionnaires de valeurs par heure (en excluant les NaN)\n",
    "prev_values = {row['hour']: row['solar_power_forecasts_average']\n",
    "               for _, row in prev_data.iterrows()\n",
    "               if not pd.isna(row['solar_power_forecasts_average'])}\n",
    "next_values = {row['hour']: row['solar_power_forecasts_average']\n",
    "               for _, row in next_data.iterrows()\n",
    "               if not pd.isna(row['solar_power_forecasts_average'])}\n",
    "\n",
    "# Extraction des données de la date manquante\n",
    "missing_data = df_sorted[df_sorted['date_string'] == missing_date][['DELIVERY_START', 'solar_power_forecasts_average', 'hour']]\n",
    "\n",
    "# Copie du DataFrame pour l'imputation\n",
    "df_output = df_sorted.copy()\n",
    "\n",
    "# Imputation par interpolation linéaire : (valeur veille + valeur lendemain) / 2\n",
    "for idx, row in missing_data.iterrows():\n",
    "    if pd.isna(row['solar_power_forecasts_average']):\n",
    "        hour = row['hour']\n",
    "        if (hour in prev_values) and (hour in next_values):\n",
    "            interpolated_value = (prev_values[hour] + next_values[hour]) / 2\n",
    "            df_output.loc[idx, 'solar_power_forecasts_average'] = interpolated_value\n",
    "\n",
    "# Ajout de la colonne imputée dans le DataFrame original\n",
    "df_imputed['solar_power_forecasts_average'] = df_output['solar_power_forecasts_average']\n",
    "\n",
    "# Nettoyage final du DataFrame (suppression des colonnes temporaires)\n",
    "df_imputed = df_output.drop(['date_string'], axis=1).copy()\n"
   ],
   "outputs": [],
   "execution_count": 122
  },
  {
   "cell_type": "code",
   "id": "8799d2abae837e10",
   "metadata": {
    "ExecuteTime": {
     "end_time": "2025-03-09T14:06:38.476181Z",
     "start_time": "2025-03-09T14:06:38.468623Z"
    }
   },
   "source": [
    "df_imputed.info()"
   ],
   "outputs": [
    {
     "name": "stdout",
     "output_type": "stream",
     "text": [
      "<class 'pandas.core.frame.DataFrame'>\n",
      "RangeIndex: 10605 entries, 0 to 10604\n",
      "Data columns (total 11 columns):\n",
      " #   Column                         Non-Null Count  Dtype  \n",
      "---  ------                         --------------  -----  \n",
      " 0   DELIVERY_START                 10605 non-null  object \n",
      " 1   load_forecast                  10605 non-null  float64\n",
      " 2   coal_power_available           10604 non-null  float64\n",
      " 3   gas_power_available            10604 non-null  float64\n",
      " 4   nuclear_power_available        10604 non-null  float64\n",
      " 5   wind_power_forecasts_average   10605 non-null  float64\n",
      " 6   solar_power_forecasts_average  10605 non-null  float64\n",
      " 7   wind_power_forecasts_std       10605 non-null  float64\n",
      " 8   solar_power_forecasts_std      10581 non-null  float64\n",
      " 9   predicted_spot_price           1846 non-null   float64\n",
      " 10  hour                           10605 non-null  int64  \n",
      "dtypes: float64(9), int64(1), object(1)\n",
      "memory usage: 911.5+ KB\n"
     ]
    }
   ],
   "execution_count": 123
  },
  {
   "cell_type": "markdown",
   "id": "6cc1f6ca17ed5f16",
   "metadata": {},
   "source": [
    "### solar_power_forecasts_std"
   ]
  },
  {
   "cell_type": "code",
   "id": "c3df8381aaaf501d",
   "metadata": {
    "ExecuteTime": {
     "end_time": "2025-03-09T14:06:38.533151Z",
     "start_time": "2025-03-09T14:06:38.518812Z"
    }
   },
   "source": [
    "import pandas as pd\n",
    "import numpy as np\n",
    "\n",
    "\n",
    "# Extraire les données de la date manquante\n",
    "missing_data = df_sorted[df_sorted['date_string'] == missing_date][['DELIVERY_START', 'solar_power_forecasts_std', 'hour']]\n",
    "\n",
    "# Copier le DataFrame pour l'imputation\n",
    "df_output = df_sorted.copy()\n",
    "\n",
    "# Imputation par interpolation linéaire : (valeur veille + valeur lendemain) / 2\n",
    "for idx, row in missing_data.iterrows():\n",
    "    if pd.isna(row['solar_power_forecasts_std']):\n",
    "        hour = row['hour']\n",
    "        if hour in prev_values and hour in next_values:\n",
    "            interpolated_value = (prev_values[hour] + next_values[hour]) / 2\n",
    "            df_output.loc[idx, 'solar_power_forecasts_std'] = interpolated_value\n",
    "\n",
    "# Ajouter la colonne imputée dans le DataFrame original\n",
    "df_imputed['solar_power_forecasts_std'] = df_output['solar_power_forecasts_std']\n",
    "\n",
    "# Nettoyer le DataFrame en retirant les colonnes temporaires\n",
    "df_imputed = df_output.drop(['date_string', 'hour'], axis=1).copy()\n"
   ],
   "outputs": [],
   "execution_count": 124
  },
  {
   "cell_type": "code",
   "id": "13daf5313ff24eb3",
   "metadata": {
    "ExecuteTime": {
     "end_time": "2025-03-09T14:06:38.582714Z",
     "start_time": "2025-03-09T14:06:38.575862Z"
    }
   },
   "source": [
    "df_imputed.info()"
   ],
   "outputs": [
    {
     "name": "stdout",
     "output_type": "stream",
     "text": [
      "<class 'pandas.core.frame.DataFrame'>\n",
      "RangeIndex: 10605 entries, 0 to 10604\n",
      "Data columns (total 10 columns):\n",
      " #   Column                         Non-Null Count  Dtype  \n",
      "---  ------                         --------------  -----  \n",
      " 0   DELIVERY_START                 10605 non-null  object \n",
      " 1   load_forecast                  10605 non-null  float64\n",
      " 2   coal_power_available           10604 non-null  float64\n",
      " 3   gas_power_available            10604 non-null  float64\n",
      " 4   nuclear_power_available        10604 non-null  float64\n",
      " 5   wind_power_forecasts_average   10605 non-null  float64\n",
      " 6   solar_power_forecasts_average  10581 non-null  float64\n",
      " 7   wind_power_forecasts_std       10605 non-null  float64\n",
      " 8   solar_power_forecasts_std      10605 non-null  float64\n",
      " 9   predicted_spot_price           1846 non-null   float64\n",
      "dtypes: float64(9), object(1)\n",
      "memory usage: 828.6+ KB\n"
     ]
    }
   ],
   "execution_count": 125
  },
  {
   "cell_type": "markdown",
   "id": "90676c59c3312821",
   "metadata": {},
   "source": [
    "### coal_power_available/gas_power_available/nuclear_power_available"
   ]
  },
  {
   "cell_type": "code",
   "id": "da7d67d255191237",
   "metadata": {
    "ExecuteTime": {
     "end_time": "2025-03-09T14:06:38.667316Z",
     "start_time": "2025-03-09T14:06:38.661569Z"
    }
   },
   "source": [
    "columns_to_ffill = ['coal_power_available', 'gas_power_available', 'nuclear_power_available']\n",
    "\n",
    "# Remplir les valeurs manquantes par la valeur précédente\n",
    "df_imputed[columns_to_ffill] = df_imputed[columns_to_ffill].ffill()"
   ],
   "outputs": [],
   "execution_count": 126
  },
  {
   "cell_type": "markdown",
   "id": "408d05f5",
   "metadata": {},
   "source": [
    "## Ajout de variables"
   ]
  },
  {
   "cell_type": "markdown",
   "id": "d03fd414",
   "metadata": {},
   "source": [
    "### Ajout d'une variable saisonnière"
   ]
  },
  {
   "cell_type": "code",
   "id": "b5e5f3fb",
   "metadata": {
    "ExecuteTime": {
     "end_time": "2025-03-09T14:06:38.834083Z",
     "start_time": "2025-03-09T14:06:38.756809Z"
    }
   },
   "source": [
    "df_imputed['DELIVERY_START'] = pd.to_datetime(df_imputed['DELIVERY_START'], utc=True)\n",
    "df_imputed['season'] = df_imputed['DELIVERY_START'].dt.month.apply(lambda x: 'winter' if x in [12, 1, 2] else 'spring' if x in [3, 4, 5] else 'summer' if x in [6, 7, 8] else 'fall')\n",
    "\n",
    "# One-hot encoding de la variable 'season'\n",
    "df_imputed['season_winter'] = df_imputed['season'].apply(lambda x: 1 if x == 'winter' else 0)\n",
    "df_imputed['season_spring'] = df_imputed['season'].apply(lambda x: 1 if x == 'spring' else 0)\n",
    "df_imputed['season_summer'] = df_imputed['season'].apply(lambda x: 1 if x == 'summer' else 0)\n",
    "df_imputed['season_fall'] = df_imputed['season'].apply(lambda x: 1 if x == 'fall' else 0)\n",
    "df_imputed.drop('season', axis=1, inplace=True)"
   ],
   "outputs": [],
   "execution_count": 127
  },
  {
   "cell_type": "markdown",
   "id": "334487dc",
   "metadata": {},
   "source": [
    "### Ajout d'une varible week-end"
   ]
  },
  {
   "cell_type": "code",
   "id": "558d2ecf",
   "metadata": {
    "ExecuteTime": {
     "end_time": "2025-03-09T14:06:38.848580Z",
     "start_time": "2025-03-09T14:06:38.840379Z"
    }
   },
   "source": [
    "df_imputed['is_weekend'] = df_imputed['DELIVERY_START'].dt.dayofweek.apply(lambda x: 1 if x in [5, 6] else 0)"
   ],
   "outputs": [],
   "execution_count": 128
  },
  {
   "cell_type": "markdown",
   "id": "53388524",
   "metadata": {},
   "source": [
    "### Ajout d'une variable jour/nuit"
   ]
  },
  {
   "cell_type": "code",
   "id": "3b2287c4",
   "metadata": {
    "ExecuteTime": {
     "end_time": "2025-03-09T14:06:38.944416Z",
     "start_time": "2025-03-09T14:06:38.936490Z"
    }
   },
   "source": [
    "df_imputed['is_day'] = df_imputed['DELIVERY_START'].dt.hour.apply(lambda x: 1 if 8 <= x <= 20 else 0)"
   ],
   "outputs": [],
   "execution_count": 129
  },
  {
   "cell_type": "markdown",
   "id": "77877b3a",
   "metadata": {},
   "source": [
    "### Ratios pour chaque énergies"
   ]
  },
  {
   "cell_type": "code",
   "id": "59d61f17",
   "metadata": {
    "ExecuteTime": {
     "end_time": "2025-03-09T14:06:38.981218Z",
     "start_time": "2025-03-09T14:06:38.950052Z"
    }
   },
   "source": [
    "df_imputed['solar_ratio'] = df_imputed['solar_power_forecasts_average'] / df_imputed['load_forecast']\n",
    "df_imputed['wind_ratio'] = df_imputed['wind_power_forecasts_average'] / df_imputed['load_forecast']\n",
    "df_imputed['coal_ratio'] = df_imputed['coal_power_available'] / df_imputed['load_forecast']\n",
    "df_imputed['gas_ratio'] = df_imputed['gas_power_available'] / df_imputed['load_forecast']\n",
    "df_imputed['nuclear_ratio'] = df_imputed['nuclear_power_available'] / df_imputed['load_forecast']"
   ],
   "outputs": [],
   "execution_count": 130
  },
  {
   "cell_type": "markdown",
   "id": "4da16085",
   "metadata": {},
   "source": [
    "### Ratio fossile/non-fossile + contrôle/non-contrôlable"
   ]
  },
  {
   "cell_type": "code",
   "id": "2d6dc550",
   "metadata": {
    "ExecuteTime": {
     "end_time": "2025-03-09T14:06:39.031352Z",
     "start_time": "2025-03-09T14:06:39.024568Z"
    }
   },
   "source": [
    "df_imputed['fossil_ratio'] = (df_imputed['coal_power_available'] + df_imputed['gas_power_available']) / df_imputed['load_forecast']\n",
    "df_imputed['green_ratio'] = (df_imputed['wind_power_forecasts_average'] + df_imputed['solar_power_forecasts_average']) / df_imputed['load_forecast']\n",
    "df_imputed['nuclear_ratio'] = df_imputed['nuclear_power_available'] / df_imputed['load_forecast']\n",
    "df_imputed['controlable_ratio'] = (df_imputed['coal_power_available'] + df_imputed['gas_power_available'] + df_imputed['nuclear_power_available']) / df_imputed['load_forecast']"
   ],
   "outputs": [],
   "execution_count": 131
  },
  {
   "cell_type": "markdown",
   "id": "123ba986",
   "metadata": {},
   "source": [
    "### Demande-Offre"
   ]
  },
  {
   "cell_type": "code",
   "id": "17095473",
   "metadata": {
    "ExecuteTime": {
     "end_time": "2025-03-09T14:06:39.128900Z",
     "start_time": "2025-03-09T14:06:39.123522Z"
    }
   },
   "source": [
    "df_imputed['all_offer'] = df_imputed['coal_power_available'] + df_imputed['gas_power_available'] + df_imputed['nuclear_power_available'] + df_imputed['wind_power_forecasts_average'] + df_imputed['solar_power_forecasts_average']\n",
    "df_imputed['offer_minus_load'] = df_imputed['all_offer'] - df_imputed['load_forecast']"
   ],
   "outputs": [],
   "execution_count": 132
  },
  {
   "cell_type": "code",
   "id": "8804f3c199ea4ce1",
   "metadata": {
    "ExecuteTime": {
     "end_time": "2025-03-09T14:06:39.186323Z",
     "start_time": "2025-03-09T14:06:39.181791Z"
    }
   },
   "source": [
    "# df_imputed = df_imputed.drop('predicted_spot_price', axis= 1)\n",
    "# df_imputed.to_csv(\"df_imputed.csv\", index=False, sep=\"'\")\n",
    "# df_imputed.to_excel(\"df_imputed.xlsx\", index=False)"
   ],
   "outputs": [],
   "execution_count": 133
  }
 ],
 "metadata": {
  "kernelspec": {
   "display_name": "Python 3",
   "language": "python",
   "name": "python3"
  },
  "language_info": {
   "codemirror_mode": {
    "name": "ipython",
    "version": 3
   },
   "file_extension": ".py",
   "mimetype": "text/x-python",
   "name": "python",
   "nbconvert_exporter": "python",
   "pygments_lexer": "ipython3",
   "version": "3.13.0"
  }
 },
 "nbformat": 4,
 "nbformat_minor": 5
}
