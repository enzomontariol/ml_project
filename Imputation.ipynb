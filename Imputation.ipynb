{
 "cells": [
  {
   "cell_type": "markdown",
   "id": "1f0e9d4a",
   "metadata": {},
   "source": [
    "# Exploration des données"
   ]
  },
  {
   "cell_type": "markdown",
   "id": "cc52d081",
   "metadata": {},
   "source": [
    "## Import des bibliothèques"
   ]
  },
  {
   "cell_type": "code",
   "id": "b6611b7aca44d20d",
   "metadata": {
    "ExecuteTime": {
     "end_time": "2025-03-20T08:28:35.478038Z",
     "start_time": "2025-03-20T08:28:35.473556Z"
    }
   },
   "source": [
    "import pandas as pd\n",
    "import statsmodels.api as sm\n",
    "from statsmodels.graphics.tsaplots import plot_acf\n",
    "import numpy as np\n",
    "from sklearn.impute import SimpleImputer\n",
    "from sklearn.metrics import mean_absolute_error, mean_squared_error\n",
    "import matplotlib.pyplot as plt\n",
    "import seaborn as sns"
   ],
   "outputs": [],
   "execution_count": 64
  },
  {
   "cell_type": "markdown",
   "id": "463687cb",
   "metadata": {},
   "source": [
    "## Chargement des données"
   ]
  },
  {
   "cell_type": "code",
   "id": "initial_id",
   "metadata": {
    "collapsed": true,
    "ExecuteTime": {
     "end_time": "2025-03-20T08:28:35.598021Z",
     "start_time": "2025-03-20T08:28:35.550349Z"
    }
   },
   "source": [
    "X_test_full = pd.read_csv('./datas/X_test.csv')\n",
    "y_test_full = pd.read_csv('./datas/Y_test.csv')\n",
    "\n",
    "#Import des datas train\n",
    "X_train_full = pd.read_csv('./datas/X_train.csv')\n",
    "Y_train_full = pd.read_csv('./datas/y_train.csv')"
   ],
   "outputs": [],
   "execution_count": 65
  },
  {
   "cell_type": "markdown",
   "id": "59a942b3",
   "metadata": {},
   "source": [
    "## Nos Y"
   ]
  },
  {
   "cell_type": "code",
   "id": "3cb076ad",
   "metadata": {
    "ExecuteTime": {
     "end_time": "2025-03-20T08:28:36.076510Z",
     "start_time": "2025-03-20T08:28:35.605373Z"
    }
   },
   "source": [
    "y = Y_train_full\n",
    "\n",
    "# Calcul de l'autocorrélation\n",
    "autocorrelation = y['spot_id_delta'].autocorr()\n",
    "print(f\"Autocorrélation de 'spot_id_delta' avec elle-même: {autocorrelation}\")\n",
    "\n",
    "# Calcul et affichage de la fonction d'autocorrélation (ACF)\n",
    "acf_values = sm.tsa.acf(y['spot_id_delta'], nlags=40)\n",
    "print(\"Valeurs de la fonction d'autocorrélation (ACF):\")\n",
    "print(acf_values)\n",
    "\n",
    "# Tracé de la fonction d'autocorrélation\n",
    "plot_acf(y['spot_id_delta'], lags=40)\n",
    "plt.show()\n",
    "\n",
    "# Test de Ljung-Box pour vérifier l'autocorrélation\n",
    "ljung_box_test = sm.stats.acorr_ljungbox(y['spot_id_delta'], lags=[10], return_df=True)\n",
    "print(\"Résultats du test de Ljung-Box:\")\n",
    "print(ljung_box_test)"
   ],
   "outputs": [
    {
     "name": "stdout",
     "output_type": "stream",
     "text": [
      "Autocorrélation de 'spot_id_delta' avec elle-même: 0.7107856450514393\n",
      "Valeurs de la fonction d'autocorrélation (ACF):\n",
      "[1.         0.71074701 0.47685964 0.40240408 0.33960978 0.30442121\n",
      " 0.27829575 0.25328681 0.23024765 0.22021387 0.18443277 0.16772724\n",
      " 0.14697851 0.11911646 0.10465129 0.09486627 0.08327889 0.07451282\n",
      " 0.0649726  0.0489283  0.03842826 0.03846234 0.04162649 0.05365476\n",
      " 0.05918062 0.04662237 0.0372881  0.02444906 0.01198338 0.00770723\n",
      " 0.00662887 0.00497258 0.00935978 0.01682656 0.02434564 0.03376427\n",
      " 0.0459359  0.04687686 0.04349781 0.04708764 0.0475077 ]\n"
     ]
    },
    {
     "data": {
      "text/plain": [
       "<Figure size 640x480 with 1 Axes>"
      ],
      "image/png": "[encoded data removed]"
     },
     "metadata": {},
     "output_type": "display_data"
    },
    {
     "name": "stdout",
     "output_type": "stream",
     "text": [
      "Résultats du test de Ljung-Box:\n",
      "         lb_stat  lb_pvalue\n",
      "10  14638.105284        0.0\n"
     ]
    }
   ],
   "execution_count": 66
  },
  {
   "cell_type": "markdown",
   "id": "d5aee2a9",
   "metadata": {},
   "source": [
    "## Nos X"
   ]
  },
  {
   "cell_type": "code",
   "id": "17786d0ec9717fd7",
   "metadata": {
    "ExecuteTime": {
     "end_time": "2025-03-20T08:28:36.168211Z",
     "start_time": "2025-03-20T08:28:36.157074Z"
    }
   },
   "source": [
    "X_test_full.head()"
   ],
   "outputs": [
    {
     "data": {
      "text/plain": [
       "              DELIVERY_START  load_forecast  coal_power_available  \\\n",
       "0  2023-04-02 00:00:00+02:00        45814.0                3386.0   \n",
       "1  2023-04-02 01:00:00+02:00        44084.0                3386.0   \n",
       "2  2023-04-02 02:00:00+02:00        43281.0                3386.0   \n",
       "3  2023-04-02 03:00:00+02:00        40825.0                3386.0   \n",
       "4  2023-04-02 04:00:00+02:00        39181.0                3386.0   \n",
       "\n",
       "   gas_power_available  nuclear_power_available  wind_power_forecasts_average  \\\n",
       "0              10902.0                  36705.0                        6359.0   \n",
       "1              10902.0                  36705.0                        6469.0   \n",
       "2              10902.0                  36705.0                        6511.0   \n",
       "3              10902.0                  36705.0                        6628.0   \n",
       "4              10902.0                  36705.0                        6700.0   \n",
       "\n",
       "   solar_power_forecasts_average  wind_power_forecasts_std  \\\n",
       "0                            0.0                 56.764535   \n",
       "1                            0.0                 54.262133   \n",
       "2                            0.0                 78.105928   \n",
       "3                            0.0                 78.187557   \n",
       "4                            0.0                 96.765484   \n",
       "\n",
       "   solar_power_forecasts_std  predicted_spot_price  \n",
       "0                        0.0                   NaN  \n",
       "1                        0.0                   NaN  \n",
       "2                        0.0                   NaN  \n",
       "3                        0.0                   NaN  \n",
       "4                        0.0                   NaN  "
      ],
      "text/html": [
       "<div>\n",
       "<style scoped>\n",
       "    .dataframe tbody tr th:only-of-type {\n",
       "        vertical-align: middle;\n",
       "    }\n",
       "\n",
       "    .dataframe tbody tr th {\n",
       "        vertical-align: top;\n",
       "    }\n",
       "\n",
       "    .dataframe thead th {\n",
       "        text-align: right;\n",
       "    }\n",
       "</style>\n",
       "<table border=\"1\" class=\"dataframe\">\n",
       "  <thead>\n",
       "    <tr style=\"text-align: right;\">\n",
       "      <th></th>\n",
       "      <th>DELIVERY_START</th>\n",
       "      <th>load_forecast</th>\n",
       "      <th>coal_power_available</th>\n",
       "      <th>gas_power_available</th>\n",
       "      <th>nuclear_power_available</th>\n",
       "      <th>wind_power_forecasts_average</th>\n",
       "      <th>solar_power_forecasts_average</th>\n",
       "      <th>wind_power_forecasts_std</th>\n",
       "      <th>solar_power_forecasts_std</th>\n",
       "      <th>predicted_spot_price</th>\n",
       "    </tr>\n",
       "  </thead>\n",
       "  <tbody>\n",
       "    <tr>\n",
       "      <th>0</th>\n",
       "      <td>2023-04-02 00:00:00+02:00</td>\n",
       "      <td>45814.0</td>\n",
       "      <td>3386.0</td>\n",
       "      <td>10902.0</td>\n",
       "      <td>36705.0</td>\n",
       "      <td>6359.0</td>\n",
       "      <td>0.0</td>\n",
       "      <td>56.764535</td>\n",
       "      <td>0.0</td>\n",
       "      <td>NaN</td>\n",
       "    </tr>\n",
       "    <tr>\n",
       "      <th>1</th>\n",
       "      <td>2023-04-02 01:00:00+02:00</td>\n",
       "      <td>44084.0</td>\n",
       "      <td>3386.0</td>\n",
       "      <td>10902.0</td>\n",
       "      <td>36705.0</td>\n",
       "      <td>6469.0</td>\n",
       "      <td>0.0</td>\n",
       "      <td>54.262133</td>\n",
       "      <td>0.0</td>\n",
       "      <td>NaN</td>\n",
       "    </tr>\n",
       "    <tr>\n",
       "      <th>2</th>\n",
       "      <td>2023-04-02 02:00:00+02:00</td>\n",
       "      <td>43281.0</td>\n",
       "      <td>3386.0</td>\n",
       "      <td>10902.0</td>\n",
       "      <td>36705.0</td>\n",
       "      <td>6511.0</td>\n",
       "      <td>0.0</td>\n",
       "      <td>78.105928</td>\n",
       "      <td>0.0</td>\n",
       "      <td>NaN</td>\n",
       "    </tr>\n",
       "    <tr>\n",
       "      <th>3</th>\n",
       "      <td>2023-04-02 03:00:00+02:00</td>\n",
       "      <td>40825.0</td>\n",
       "      <td>3386.0</td>\n",
       "      <td>10902.0</td>\n",
       "      <td>36705.0</td>\n",
       "      <td>6628.0</td>\n",
       "      <td>0.0</td>\n",
       "      <td>78.187557</td>\n",
       "      <td>0.0</td>\n",
       "      <td>NaN</td>\n",
       "    </tr>\n",
       "    <tr>\n",
       "      <th>4</th>\n",
       "      <td>2023-04-02 04:00:00+02:00</td>\n",
       "      <td>39181.0</td>\n",
       "      <td>3386.0</td>\n",
       "      <td>10902.0</td>\n",
       "      <td>36705.0</td>\n",
       "      <td>6700.0</td>\n",
       "      <td>0.0</td>\n",
       "      <td>96.765484</td>\n",
       "      <td>0.0</td>\n",
       "      <td>NaN</td>\n",
       "    </tr>\n",
       "  </tbody>\n",
       "</table>\n",
       "</div>"
      ]
     },
     "execution_count": 67,
     "metadata": {},
     "output_type": "execute_result"
    }
   ],
   "execution_count": 67
  },
  {
   "cell_type": "code",
   "id": "9d2dfdd878ea3a6b",
   "metadata": {
    "ExecuteTime": {
     "end_time": "2025-03-20T08:28:36.282154Z",
     "start_time": "2025-03-20T08:28:36.263472Z"
    }
   },
   "source": [
    "print(X_train_full.describe())\n"
   ],
   "outputs": [
    {
     "name": "stdout",
     "output_type": "stream",
     "text": [
      "       load_forecast  coal_power_available  gas_power_available  \\\n",
      "count    9318.000000          10604.000000         10604.000000   \n",
      "mean    53725.132968           2819.781592         11463.220671   \n",
      "std     11274.194929            495.103588           483.799154   \n",
      "min     30515.000000           1646.000000          9769.000000   \n",
      "25%     45336.500000           2226.000000         11140.000000   \n",
      "50%     51846.000000           2806.000000         11487.000000   \n",
      "75%     62091.750000           3386.000000         11945.000000   \n",
      "max     85145.000000           3391.000000         11963.000000   \n",
      "\n",
      "       nuclear_power_available  wind_power_forecasts_average  \\\n",
      "count             10604.000000                  10581.000000   \n",
      "mean              35393.282252                   4512.989415   \n",
      "std                7619.820162                   3349.419356   \n",
      "min               22285.000000                    592.000000   \n",
      "25%               29005.000000                   2036.000000   \n",
      "50%               32470.000000                   3319.000000   \n",
      "75%               43055.000000                   5951.000000   \n",
      "max               50122.000000                  15167.000000   \n",
      "\n",
      "       solar_power_forecasts_average  wind_power_forecasts_std  \\\n",
      "count                   10581.000000              10581.000000   \n",
      "mean                     1919.281353                125.399422   \n",
      "std                      2706.963383                132.152875   \n",
      "min                         0.000000                  1.830211   \n",
      "25%                         0.000000                 46.818974   \n",
      "50%                       149.000000                 86.700163   \n",
      "75%                      3507.000000                155.325644   \n",
      "max                     10127.000000               1871.571992   \n",
      "\n",
      "       solar_power_forecasts_std  predicted_spot_price  \n",
      "count               10581.000000           1846.000000  \n",
      "mean                   24.997384            140.256024  \n",
      "std                    43.083977             33.922669  \n",
      "min                     0.000000             42.420000  \n",
      "25%                     0.000000            119.405000  \n",
      "50%                     3.507229            140.040000  \n",
      "75%                    35.137019            160.765000  \n",
      "max                   745.261316            254.190000  \n"
     ]
    }
   ],
   "execution_count": 68
  },
  {
   "cell_type": "code",
   "id": "9f3de124ed5366aa",
   "metadata": {
    "ExecuteTime": {
     "end_time": "2025-03-20T08:28:36.387969Z",
     "start_time": "2025-03-20T08:28:36.375816Z"
    }
   },
   "source": [
    "print(X_train_full.info())"
   ],
   "outputs": [
    {
     "name": "stdout",
     "output_type": "stream",
     "text": [
      "<class 'pandas.core.frame.DataFrame'>\n",
      "RangeIndex: 10605 entries, 0 to 10604\n",
      "Data columns (total 10 columns):\n",
      " #   Column                         Non-Null Count  Dtype  \n",
      "---  ------                         --------------  -----  \n",
      " 0   DELIVERY_START                 10605 non-null  object \n",
      " 1   load_forecast                  9318 non-null   float64\n",
      " 2   coal_power_available           10604 non-null  float64\n",
      " 3   gas_power_available            10604 non-null  float64\n",
      " 4   nuclear_power_available        10604 non-null  float64\n",
      " 5   wind_power_forecasts_average   10581 non-null  float64\n",
      " 6   solar_power_forecasts_average  10581 non-null  float64\n",
      " 7   wind_power_forecasts_std       10581 non-null  float64\n",
      " 8   solar_power_forecasts_std      10581 non-null  float64\n",
      " 9   predicted_spot_price           1846 non-null   float64\n",
      "dtypes: float64(9), object(1)\n",
      "memory usage: 828.6+ KB\n",
      "None\n"
     ]
    }
   ],
   "execution_count": 69
  },
  {
   "metadata": {},
   "cell_type": "markdown",
   "source": "### Matrice de corrélation",
   "id": "f947b5489a48441d"
  },
  {
   "metadata": {
    "ExecuteTime": {
     "end_time": "2025-03-20T08:28:36.861074Z",
     "start_time": "2025-03-20T08:28:36.474758Z"
    }
   },
   "cell_type": "code",
   "source": [
    "df_X_Y_merged = pd.merge(X_train_full, Y_train_full, on='DELIVERY_START')\n",
    "\n",
    "correlation_matrix = df_X_Y_merged.select_dtypes(include=[np.number]).corr()\n",
    "\n",
    "plt.figure(figsize=(12, 10))\n",
    "sns.heatmap(correlation_matrix, annot=True, cmap='coolwarm', fmt='.2f', linewidths=0.5)\n",
    "plt.title('Matrice de corrélation entre toutes les variables')\n",
    "plt.tight_layout()\n",
    "plt.show()"
   ],
   "id": "e62838344a46355",
   "outputs": [
    {
     "data": {
      "text/plain": [
       "<Figure size 1200x1000 with 2 Axes>"
      ],
      "image/png": "[encoded data removed]"
     },
     "metadata": {},
     "output_type": "display_data"
    }
   ],
   "execution_count": 70
  },
  {
   "cell_type": "code",
   "id": "de98d4be3bede5cf",
   "metadata": {
    "ExecuteTime": {
     "end_time": "2025-03-20T08:28:36.937974Z",
     "start_time": "2025-03-20T08:28:36.932672Z"
    }
   },
   "source": [
    "# load_forecast: Prévision de charge électrique (12% manquantes)\n",
    "# coal_power_available: Capacité disponible des centrales à charbon\n",
    "# gas_power_available: Capacité disponible des centrales à gaz\n",
    "# nuclear_power_available: Capacité disponible des centrales nucléaires\n",
    "#A noter ques coal, gas et nuclear sont en données journalières !!\n",
    "# wind_power_forecasts_average: Prévision moyenne de production éolienne\n",
    "# solar_power_forecasts_average: Prévision moyenne de production solaire (manquantes la nuit ~100% entre 23h-4h)\n",
    "# wind_power_forecasts_std: Écart-type des prévisions de production éolienne\n",
    "# solar_power_forecasts_std: Écart-type des prévisions de production solaire (manque quand solar_average manque)\n",
    "# predicted_spot_price: Prix spot prévu (82% manquantes - probablement la variable à prédire)\n",
    "#\n",
    "# Note: Les valeurs manquantes pour solar_ s'expliquent par l'absence de production solaire la nuit. --> Pour ces colonnes, pas d'imputation prévu, mais il y a des Nan sur un jour"
   ],
   "outputs": [],
   "execution_count": 71
  },
  {
   "cell_type": "markdown",
   "id": "4c82ee42",
   "metadata": {},
   "source": [
    "## Traitement des varaibles manquantes"
   ]
  },
  {
   "metadata": {},
   "cell_type": "markdown",
   "source": "### On concat le train et test df",
   "id": "e084e021a6ee8848"
  },
  {
   "metadata": {
    "ExecuteTime": {
     "end_time": "2025-03-20T08:28:37.008293Z",
     "start_time": "2025-03-20T08:28:37.002338Z"
    }
   },
   "cell_type": "code",
   "source": [
    "df = pd.concat([X_train_full, X_test_full], axis=0, ignore_index=True)\n",
    "train_size = len(X_train_full)\n"
   ],
   "id": "729933d02d66a307",
   "outputs": [],
   "execution_count": 72
  },
  {
   "metadata": {},
   "cell_type": "markdown",
   "source": "### load_forcast imputation",
   "id": "4afc59192cd644b7"
  },
  {
   "cell_type": "code",
   "id": "47efe0bcd9c1c479",
   "metadata": {
    "ExecuteTime": {
     "end_time": "2025-03-20T08:28:37.120386Z",
     "start_time": "2025-03-20T08:28:37.071085Z"
    }
   },
   "source": [
    "df['hour'] = df['DELIVERY_START'].astype(str).str.extract(r'(\\d{2}):\\d{2}:\\d{2}').astype(int)\n",
    "\n",
    "\n",
    "df['hour'] = df['DELIVERY_START'].astype(str).str.extract(r'(\\d{2}):\\d{2}:\\d{2}').astype(int)\n",
    "\n",
    "\n",
    "#On fait des tests avec différentes méthodes\n",
    "missing_mask = df['load_forecast'].isna()\n",
    "print(f\"Nombre de valeurs manquantes dans load_forecast: {missing_mask.sum()} sur {len(df)}\")\n",
    "\n",
    "# Créer un ensemble de test en masquant 10% des valeurs connues pour évaluation\n",
    "df_complete = df[~missing_mask].copy()\n",
    "np.random.seed(42)\n",
    "n_samples = len(df_complete)\n",
    "n_missing_test = int(n_samples * 0.1)\n",
    "test_indices = np.random.choice(df_complete.index, n_missing_test, replace=False)\n",
    "\n",
    "df_eval = df_complete.copy()\n",
    "true_values = df_eval.loc[test_indices, 'load_forecast'].copy()\n",
    "df_eval.loc[test_indices, 'load_forecast'] = np.nan\n",
    "\n",
    "results = []\n",
    "\n",
    "# Fonction pour évaluer l'imputation\n",
    "def evaluate_method(imputed_values, true_values, method_name):\n",
    "    mae = mean_absolute_error(true_values, imputed_values)\n",
    "    rmse = np.sqrt(mean_squared_error(true_values, imputed_values))\n",
    "    mape = np.mean(np.abs((true_values - imputed_values) / true_values)) * 100\n",
    "\n",
    "    print(f\"\\n{method_name}:\")\n",
    "    print(f\"MAE: {mae:.2f}\")\n",
    "    print(f\"RMSE: {rmse:.2f}\")\n",
    "    print(f\"MAPE: {mape:.2f}%\")\n",
    "\n",
    "    return {'method': method_name, 'mae': mae, 'rmse': rmse, 'mape': mape}"
   ],
   "outputs": [
    {
     "name": "stdout",
     "output_type": "stream",
     "text": [
      "Nombre de valeurs manquantes dans load_forecast: 1287 sur 15547\n"
     ]
    }
   ],
   "execution_count": 73
  },
  {
   "cell_type": "code",
   "id": "71da4faead11f1c2",
   "metadata": {
    "ExecuteTime": {
     "end_time": "2025-03-20T08:28:37.237929Z",
     "start_time": "2025-03-20T08:28:37.183871Z"
    }
   },
   "source": [
    "# 1. Imputation par la moyenne globale\n",
    "df_mean = df_eval.copy()\n",
    "mean_imputer = SimpleImputer(strategy='mean')\n",
    "df_mean['load_forecast'] = mean_imputer.fit_transform(df_mean[['load_forecast']])\n",
    "imputed_values = df_mean.loc[test_indices, 'load_forecast']\n",
    "results.append(evaluate_method(imputed_values, true_values, \"Moyenne globale\"))\n",
    "\n",
    "# 2. Imputation par la médiane globale\n",
    "df_median = df_eval.copy()\n",
    "median_imputer = SimpleImputer(strategy='median')\n",
    "df_median['load_forecast'] = median_imputer.fit_transform(df_median[['load_forecast']])\n",
    "imputed_values = df_median.loc[test_indices, 'load_forecast']\n",
    "results.append(evaluate_method(imputed_values, true_values, \"Médiane globale\"))\n",
    "\n",
    "# 3. Imputation par la moyenne par heure\n",
    "print(\"\\nTest de l'imputation par moyenne par heure...\")\n",
    "df_hour_mean = df_eval.copy()\n",
    "hour_means = df_complete.groupby('hour')['load_forecast'].mean()\n",
    "for hour, mean_value in hour_means.items():\n",
    "    hour_missing = (df_hour_mean['hour'] == hour) & df_hour_mean['load_forecast'].isna()\n",
    "    df_hour_mean.loc[hour_missing, 'load_forecast'] = mean_value\n",
    "imputed_values = df_hour_mean.loc[test_indices, 'load_forecast']\n",
    "results.append(evaluate_method(imputed_values, true_values, \"Moyenne par heure\"))\n",
    "\n",
    "# 4. Imputation par la médiane par heure\n",
    "print(\"\\nTest de l'imputation par médiane par heure...\")\n",
    "df_hour_median = df_eval.copy()\n",
    "hour_medians = df_complete.groupby('hour')['load_forecast'].median()\n",
    "for hour, median_value in hour_medians.items():\n",
    "    hour_missing = (df_hour_median['hour'] == hour) & df_hour_median['load_forecast'].isna()\n",
    "    df_hour_median.loc[hour_missing, 'load_forecast'] = median_value\n",
    "imputed_values = df_hour_median.loc[test_indices, 'load_forecast']\n",
    "results.append(evaluate_method(imputed_values, true_values, \"Médiane par heure\"))"
   ],
   "outputs": [
    {
     "name": "stdout",
     "output_type": "stream",
     "text": [
      "\n",
      "Moyenne globale:\n",
      "MAE: 9018.56\n",
      "RMSE: 11148.54\n",
      "MAPE: 18.39%\n",
      "\n",
      "Médiane globale:\n",
      "MAE: 8853.30\n",
      "RMSE: 11381.22\n",
      "MAPE: 17.30%\n",
      "\n",
      "Test de l'imputation par moyenne par heure...\n",
      "\n",
      "Moyenne par heure:\n",
      "MAE: 8682.26\n",
      "RMSE: 10544.98\n",
      "MAPE: 17.32%\n",
      "\n",
      "Test de l'imputation par médiane par heure...\n",
      "\n",
      "Médiane par heure:\n",
      "MAE: 8184.11\n",
      "RMSE: 11335.45\n",
      "MAPE: 14.94%\n"
     ]
    }
   ],
   "execution_count": 74
  },
  {
   "cell_type": "code",
   "id": "21f9ac3bd57e2542",
   "metadata": {
    "ExecuteTime": {
     "end_time": "2025-03-20T08:28:37.318783Z",
     "start_time": "2025-03-20T08:28:37.296608Z"
    }
   },
   "source": [
    "df_imputed = df.copy()\n",
    "\n",
    "# Application directe de la médiane par heure\n",
    "for hour, median_value in hour_medians.items():\n",
    "    hour_missing = (df_imputed['hour'] == hour) & missing_mask\n",
    "    df_imputed.loc[hour_missing, 'load_forecast'] = median_value\n",
    "    print(f\"Imputation pour heure {hour}: {median_value:.2f} (pour {hour_missing.sum()} valeurs)\")\n",
    "\n",
    "df_imputed.info()"
   ],
   "outputs": [
    {
     "name": "stdout",
     "output_type": "stream",
     "text": [
      "Imputation pour heure 0: 43744.00 (pour 54 valeurs)\n",
      "Imputation pour heure 1: 41428.00 (pour 54 valeurs)\n",
      "Imputation pour heure 2: 39900.00 (pour 54 valeurs)\n",
      "Imputation pour heure 3: 38069.00 (pour 54 valeurs)\n",
      "Imputation pour heure 4: 37032.00 (pour 54 valeurs)\n",
      "Imputation pour heure 5: 38331.00 (pour 54 valeurs)\n",
      "Imputation pour heure 6: 41726.00 (pour 54 valeurs)\n",
      "Imputation pour heure 7: 45519.00 (pour 54 valeurs)\n",
      "Imputation pour heure 8: 48047.00 (pour 54 valeurs)\n",
      "Imputation pour heure 9: 49592.50 (pour 54 valeurs)\n",
      "Imputation pour heure 10: 50354.00 (pour 54 valeurs)\n",
      "Imputation pour heure 11: 50995.00 (pour 54 valeurs)\n",
      "Imputation pour heure 12: 51726.50 (pour 54 valeurs)\n",
      "Imputation pour heure 13: 50974.00 (pour 54 valeurs)\n",
      "Imputation pour heure 14: 49865.00 (pour 54 valeurs)\n",
      "Imputation pour heure 15: 48812.00 (pour 53 valeurs)\n",
      "Imputation pour heure 16: 47506.50 (pour 53 valeurs)\n",
      "Imputation pour heure 17: 47030.00 (pour 53 valeurs)\n",
      "Imputation pour heure 18: 47948.50 (pour 53 valeurs)\n",
      "Imputation pour heure 19: 49372.00 (pour 53 valeurs)\n",
      "Imputation pour heure 20: 48040.00 (pour 53 valeurs)\n",
      "Imputation pour heure 21: 46310.00 (pour 53 valeurs)\n",
      "Imputation pour heure 22: 46136.00 (pour 53 valeurs)\n",
      "Imputation pour heure 23: 46286.50 (pour 53 valeurs)\n",
      "<class 'pandas.core.frame.DataFrame'>\n",
      "RangeIndex: 15547 entries, 0 to 15546\n",
      "Data columns (total 11 columns):\n",
      " #   Column                         Non-Null Count  Dtype  \n",
      "---  ------                         --------------  -----  \n",
      " 0   DELIVERY_START                 15547 non-null  object \n",
      " 1   load_forecast                  15547 non-null  float64\n",
      " 2   coal_power_available           15546 non-null  float64\n",
      " 3   gas_power_available            15546 non-null  float64\n",
      " 4   nuclear_power_available        15546 non-null  float64\n",
      " 5   wind_power_forecasts_average   15523 non-null  float64\n",
      " 6   solar_power_forecasts_average  15499 non-null  float64\n",
      " 7   wind_power_forecasts_std       15523 non-null  float64\n",
      " 8   solar_power_forecasts_std      15499 non-null  float64\n",
      " 9   predicted_spot_price           5252 non-null   float64\n",
      " 10  hour                           15547 non-null  int64  \n",
      "dtypes: float64(9), int64(1), object(1)\n",
      "memory usage: 1.3+ MB\n"
     ]
    }
   ],
   "execution_count": 75
  },
  {
   "cell_type": "code",
   "id": "4b1871580667bfd7",
   "metadata": {
    "ExecuteTime": {
     "end_time": "2025-03-20T08:28:37.612799Z",
     "start_time": "2025-03-20T08:28:37.374525Z"
    }
   },
   "source": [
    "# Visualiser les distributions avant/après imputation\n",
    "plt.figure(figsize=(12, 5))\n",
    "plt.subplot(1, 2, 1)\n",
    "df[~missing_mask]['load_forecast'].hist(bins=30, alpha=0.7)\n",
    "plt.title(\"Distribution originale\")\n",
    "plt.xlabel(\"load_forecast\")\n",
    "plt.ylabel(\"Fréquence\")\n",
    "\n",
    "plt.subplot(1, 2, 2)\n",
    "df_imputed['load_forecast'].hist(bins=30, alpha=0.7)\n",
    "plt.title(f\"Distribution après imputation médianne par heure\")\n",
    "plt.xlabel(\"load_forecast\")\n",
    "plt.ylabel(\"Fréquence\")\n",
    "\n",
    "plt.tight_layout()"
   ],
   "outputs": [
    {
     "data": {
      "text/plain": [
       "<Figure size 1200x500 with 2 Axes>"
      ],
      "image/png": "[encoded data removed]"
     },
     "metadata": {},
     "output_type": "display_data"
    }
   ],
   "execution_count": 76
  },
  {
   "cell_type": "markdown",
   "id": "c7f353f2f1cc6a5c",
   "metadata": {},
   "source": [
    "### wind_power_forecasts_average"
   ]
  },
  {
   "cell_type": "code",
   "id": "397a4aaea22adaa8",
   "metadata": {
    "ExecuteTime": {
     "end_time": "2025-03-20T08:28:38.024873Z",
     "start_time": "2025-03-20T08:28:37.726695Z"
    }
   },
   "source": [
    "df_sorted = df_imputed.sort_values('DELIVERY_START')\n",
    "\n",
    "\n",
    "serie_complete = df_sorted['wind_power_forecasts_average'].dropna()\n",
    "\n",
    "# Calculer la corrélation globale entre chaque point et son suivant\n",
    "global_corr = np.corrcoef(serie_complete[:-1], serie_complete[1:])[0, 1]\n",
    "print(\"Corrélation globale :\", global_corr)\n",
    "\n",
    "# Fonction pour calculer la corrélation locale (entre t-1 et t+1)\n",
    "def calculate_local_correlation(data):\n",
    "    # On utilise uniquement les indices où t-1 et t+1 existent\n",
    "    x_vals = []\n",
    "    y_vals = []\n",
    "    for i in range(1, len(data) - 1):\n",
    "        x_vals.append(data.iloc[i-1])\n",
    "        y_vals.append(data.iloc[i+1])\n",
    "    return np.corrcoef(x_vals, y_vals)[0, 1]\n",
    "\n",
    "# Calculer la corrélation locale avant interpolation\n",
    "local_corr_originale = calculate_local_correlation(serie_complete)\n",
    "print(\"Corrélation locale originale :\", local_corr_originale)\n",
    "\n",
    "# Créer des copies pour les interpolations\n",
    "df_linear = df_sorted.copy()\n",
    "df_cubic = df_sorted.copy()\n",
    "\n",
    "# Interpolation linéaire\n",
    "df_linear['wind_power_forecasts_average'] = df_linear['wind_power_forecasts_average'].interpolate(method='linear')\n",
    "df_linear['wind_power_forecasts_average'] = df_linear['wind_power_forecasts_average'].fillna(method='ffill').fillna(method='bfill')\n",
    "\n",
    "# Interpolation cubique\n",
    "df_cubic['wind_power_forecasts_average'] = df_cubic['wind_power_forecasts_average'].interpolate(method='cubic')\n",
    "df_cubic['wind_power_forecasts_average'] = df_cubic['wind_power_forecasts_average'].fillna(method='ffill').fillna(method='bfill')\n",
    "\n",
    "# Pour le calcul, recréer les séries sans NaN\n",
    "serie_linear = df_linear['wind_power_forecasts_average']\n",
    "serie_cubic = df_cubic['wind_power_forecasts_average']\n",
    "\n",
    "# Calculer la corrélation globale après interpolation\n",
    "global_corr_linear = np.corrcoef(serie_linear[:-1], serie_linear[1:])[0, 1]\n",
    "global_corr_cubic  = np.corrcoef(serie_cubic[:-1], serie_cubic[1:])[0, 1]\n",
    "\n",
    "# Calculer la corrélation locale après interpolation\n",
    "local_corr_linear = calculate_local_correlation(serie_linear)\n",
    "local_corr_cubic  = calculate_local_correlation(serie_cubic)\n",
    "\n",
    "# Comparaison des corrélations\n",
    "print(\"\\nComparaison des corrélations :\")\n",
    "print(f\"Corrélation globale - Originale : {global_corr}\")\n",
    "print(f\"Corrélation locale - Originale  : {local_corr_originale}\")\n",
    "\n",
    "# Ajout des valeurs imputées (ici issues de l'interpolation cubique) dans df_imputed\n",
    "df_imputed['wind_power_forecasts_average'] = (\n",
    "    df_cubic)['wind_power_forecasts_average']"
   ],
   "outputs": [
    {
     "name": "stdout",
     "output_type": "stream",
     "text": [
      "Corrélation globale : 0.9944075865461373\n",
      "Corrélation locale originale : 0.9803714192035405\n",
      "\n",
      "Comparaison des corrélations :\n",
      "Corrélation globale - Originale : 0.9944075865461373\n",
      "Corrélation locale - Originale  : 0.9803714192035405\n"
     ]
    },
    {
     "name": "stderr",
     "output_type": "stream",
     "text": [
      "C:\\Users\\tmont\\AppData\\Local\\Temp\\ipykernel_6728\\3589865665.py:30: FutureWarning: Series.fillna with 'method' is deprecated and will raise in a future version. Use obj.ffill() or obj.bfill() instead.\n",
      "  df_linear['wind_power_forecasts_average'] = df_linear['wind_power_forecasts_average'].fillna(method='ffill').fillna(method='bfill')\n",
      "C:\\Users\\tmont\\AppData\\Local\\Temp\\ipykernel_6728\\3589865665.py:34: FutureWarning: Series.fillna with 'method' is deprecated and will raise in a future version. Use obj.ffill() or obj.bfill() instead.\n",
      "  df_cubic['wind_power_forecasts_average'] = df_cubic['wind_power_forecasts_average'].fillna(method='ffill').fillna(method='bfill')\n"
     ]
    }
   ],
   "execution_count": 77
  },
  {
   "cell_type": "markdown",
   "id": "cb1f63071b87ac1a",
   "metadata": {},
   "source": [
    "### wind_power_forecasts_std"
   ]
  },
  {
   "cell_type": "code",
   "id": "12e9e4581b114551",
   "metadata": {
    "ExecuteTime": {
     "end_time": "2025-03-20T08:28:38.320500Z",
     "start_time": "2025-03-20T08:28:38.030155Z"
    }
   },
   "source": [
    "df_sorted = df_imputed.sort_values('DELIVERY_START')\n",
    "\n",
    "# On s'assure de travailler sur la série sans NaN pour le calcul global\n",
    "serie_complete = df_sorted['wind_power_forecasts_std'].dropna()\n",
    "\n",
    "# Calculer la corrélation globale entre chaque point et son suivant\n",
    "global_corr = np.corrcoef(serie_complete[:-1], serie_complete[1:])[0, 1]\n",
    "print(\"Corrélation globale :\", global_corr)\n",
    "\n",
    "\n",
    "# Calculer la corrélation locale avant interpolation\n",
    "local_corr_originale = calculate_local_correlation(serie_complete)\n",
    "print(\"Corrélation locale originale :\", local_corr_originale)\n",
    "\n",
    "# Créer des copies pour les interpolations\n",
    "df_linear = df_sorted.copy()\n",
    "df_cubic = df_sorted.copy()\n",
    "\n",
    "# Interpolation linéaire\n",
    "df_linear['wind_power_forecasts_std'] = df_linear['wind_power_forecasts_std'].interpolate(method='linear')\n",
    "df_linear['wind_power_forecasts_std'] = df_linear['wind_power_forecasts_std'].fillna(method='ffill').fillna(method='bfill')\n",
    "\n",
    "# Interpolation cubique\n",
    "df_cubic['wind_power_forecasts_std'] = df_cubic['wind_power_forecasts_std'].interpolate(method='cubic')\n",
    "df_cubic['wind_power_forecasts_std'] = df_cubic['wind_power_forecasts_std'].fillna(method='ffill').fillna(method='bfill')\n",
    "\n",
    "# Pour le calcul, recréer les séries sans NaN\n",
    "serie_linear = df_linear['wind_power_forecasts_std']\n",
    "serie_cubic = df_cubic['wind_power_forecasts_std']\n",
    "\n",
    "# Calculer la corrélation globale après interpolation\n",
    "global_corr_linear = np.corrcoef(serie_linear[:-1], serie_linear[1:])[0, 1]\n",
    "global_corr_cubic  = np.corrcoef(serie_cubic[:-1], serie_cubic[1:])[0, 1]\n",
    "\n",
    "# Calculer la corrélation locale après interpolation\n",
    "local_corr_linear = calculate_local_correlation(serie_linear)\n",
    "local_corr_cubic  = calculate_local_correlation(serie_cubic)\n",
    "\n",
    "\n",
    "# Sélection de la méthode qui préserve le mieux la structure de corrélation\n",
    "if abs(global_corr_linear - global_corr) < abs(global_corr_cubic - global_corr):\n",
    "    df_imputed['wind_power_forecasts_std'] = df_linear['wind_power_forecasts_std']\n",
    "else:\n",
    "    df_imputed['wind_power_forecasts_std'] = df_cubic['wind_power_forecasts_std']\n",
    "#le spline cibique revient avec de meilleurs résultats"
   ],
   "outputs": [
    {
     "name": "stdout",
     "output_type": "stream",
     "text": [
      "Corrélation globale : 0.898685514865192\n",
      "Corrélation locale originale : 0.7665478147450726\n"
     ]
    },
    {
     "name": "stderr",
     "output_type": "stream",
     "text": [
      "C:\\Users\\tmont\\AppData\\Local\\Temp\\ipykernel_6728\\1879552614.py:21: FutureWarning: Series.fillna with 'method' is deprecated and will raise in a future version. Use obj.ffill() or obj.bfill() instead.\n",
      "  df_linear['wind_power_forecasts_std'] = df_linear['wind_power_forecasts_std'].fillna(method='ffill').fillna(method='bfill')\n",
      "C:\\Users\\tmont\\AppData\\Local\\Temp\\ipykernel_6728\\1879552614.py:25: FutureWarning: Series.fillna with 'method' is deprecated and will raise in a future version. Use obj.ffill() or obj.bfill() instead.\n",
      "  df_cubic['wind_power_forecasts_std'] = df_cubic['wind_power_forecasts_std'].fillna(method='ffill').fillna(method='bfill')\n"
     ]
    }
   ],
   "execution_count": 78
  },
  {
   "cell_type": "code",
   "id": "97f624bf856ca902",
   "metadata": {
    "ExecuteTime": {
     "end_time": "2025-03-20T08:28:38.394993Z",
     "start_time": "2025-03-20T08:28:38.384236Z"
    }
   },
   "source": [
    "df_imputed.info()"
   ],
   "outputs": [
    {
     "name": "stdout",
     "output_type": "stream",
     "text": [
      "<class 'pandas.core.frame.DataFrame'>\n",
      "RangeIndex: 15547 entries, 0 to 15546\n",
      "Data columns (total 11 columns):\n",
      " #   Column                         Non-Null Count  Dtype  \n",
      "---  ------                         --------------  -----  \n",
      " 0   DELIVERY_START                 15547 non-null  object \n",
      " 1   load_forecast                  15547 non-null  float64\n",
      " 2   coal_power_available           15546 non-null  float64\n",
      " 3   gas_power_available            15546 non-null  float64\n",
      " 4   nuclear_power_available        15546 non-null  float64\n",
      " 5   wind_power_forecasts_average   15547 non-null  float64\n",
      " 6   solar_power_forecasts_average  15499 non-null  float64\n",
      " 7   wind_power_forecasts_std       15547 non-null  float64\n",
      " 8   solar_power_forecasts_std      15499 non-null  float64\n",
      " 9   predicted_spot_price           5252 non-null   float64\n",
      " 10  hour                           15547 non-null  int64  \n",
      "dtypes: float64(9), int64(1), object(1)\n",
      "memory usage: 1.3+ MB\n"
     ]
    }
   ],
   "execution_count": 79
  },
  {
   "cell_type": "markdown",
   "id": "87b7f00f762cb293",
   "metadata": {},
   "source": [
    "### solar_power_forecasts_average"
   ]
  },
  {
   "cell_type": "code",
   "id": "5c3f267eadfd847c",
   "metadata": {
    "ExecuteTime": {
     "end_time": "2025-03-20T08:28:38.945337Z",
     "start_time": "2025-03-20T08:28:38.453818Z"
    }
   },
   "source": [
    "import pandas as pd\n",
    "import numpy as np\n",
    "\n",
    "# Copie du DataFrame trié\n",
    "df_sorted = df_imputed.copy()\n",
    "df_sorted['date_string'] = df_sorted['DELIVERY_START'].astype(str).str.split(' ').str[0]\n",
    "df_sorted['hour'] = df_sorted['DELIVERY_START'].astype(str).str.split(' ').str[1].str.split(':').str[0].astype(int)\n",
    "\n",
    "# Liste des dates où il manque des données\n",
    "missing_dates = ['2023-02-19', '2023-02-20', '2023-04-26', '2023-04-27']\n",
    "\n",
    "df_output = df_sorted.copy()\n",
    "\n",
    "# Pour chaque date avec des données manquantes\n",
    "for missing_date in missing_dates:\n",
    "    # On prends une fenêtre de 3 jours avant et après\n",
    "    window_size = 3\n",
    "    date_range = []\n",
    "    for i in range(-window_size, window_size + 1):\n",
    "        if i == 0:  # Sauter la date manquante elle-même\n",
    "            continue\n",
    "        window_date = (pd.to_datetime(missing_date) + pd.Timedelta(days=i)).strftime('%Y-%m-%d')\n",
    "        date_range.append(window_date)\n",
    "\n",
    "    # Filtrer les dates de la fenêtre qui existent réellement dans le dataset\n",
    "    existing_dates = df_sorted['date_string'].unique()\n",
    "    date_range = [date for date in date_range if date in existing_dates]\n",
    "\n",
    "    # Pour chaque heure, calculer la médiane des valeurs sur la fenêtre glissante\n",
    "    for hour in range(24):\n",
    "        # Extraction des données de la date manquante pour cette heure\n",
    "        missing_rows = df_sorted[(df_sorted['date_string'] == missing_date) &\n",
    "                               (df_sorted['hour'] == hour)]\n",
    "\n",
    "        # Vérifier s'il y a des valeurs manquantes pour cette heure\n",
    "        if missing_rows.empty or not missing_rows['solar_power_forecasts_average'].isna().any():\n",
    "            continue\n",
    "\n",
    "        # Récupérer toutes les valeurs pour cette heure spécifique dans la fenêtre\n",
    "        hour_values = []\n",
    "        for date in date_range:\n",
    "            values = df_sorted[(df_sorted['date_string'] == date) &\n",
    "                              (df_sorted['hour'] == hour)]['solar_power_forecasts_average'].values\n",
    "            if len(values) > 0 and not pd.isna(values[0]):\n",
    "                hour_values.append(values[0])\n",
    "\n",
    "        # Si on n'a pas de valeurs dans la fenêtre, essayer d'élargir la fenêtre\n",
    "        if not hour_values:\n",
    "            extended_window = 7  # Essayer avec une fenêtre plus large\n",
    "            for i in range(-extended_window, extended_window + 1):\n",
    "                if i == 0:\n",
    "                    continue\n",
    "                window_date = (pd.to_datetime(missing_date) + pd.Timedelta(days=i)).strftime('%Y-%m-%d')\n",
    "                if window_date in existing_dates:\n",
    "                    values = df_sorted[(df_sorted['date_string'] == window_date) &\n",
    "                                     (df_sorted['hour'] == hour)]['solar_power_forecasts_average'].values\n",
    "                    if len(values) > 0 and not pd.isna(values[0]):\n",
    "                        hour_values.append(values[0])\n",
    "\n",
    "        # Calculer la médiane si on a au moins une valeur\n",
    "        if hour_values:\n",
    "            median_value = np.median(hour_values)\n",
    "\n",
    "            # Appliquer la médiane aux valeurs manquantes pour cette heure et cette date\n",
    "            for idx in missing_rows.index:\n",
    "                if pd.isna(df_output.loc[idx, 'solar_power_forecasts_average']):\n",
    "                    df_output.loc[idx, 'solar_power_forecasts_average'] = median_value\n",
    "\n",
    "# Traitement spécial pour le 19 février 23h et le 26 avril 22-23h qui sont à cheval sur deux jours\n",
    "# Identifier ces timestamps spécifiques\n",
    "special_timestamps = ['2023-02-19 23:00:00', '2023-04-26 22:00:00', '2023-04-26 23:00:00']\n",
    "\n",
    "for timestamp in special_timestamps:\n",
    "    idx = df_sorted[df_sorted['DELIVERY_START'] == timestamp].index\n",
    "    if len(idx) > 0 and pd.isna(df_output.loc[idx[0], 'solar_power_forecasts_average']):\n",
    "        # Extraire l'heure du timestamp\n",
    "        hour = int(timestamp.split(' ')[1].split(':')[0])\n",
    "\n",
    "        # Mettre zéro comme production solaire nocturne\n",
    "        df_output.loc[idx[0], 'solar_power_forecasts_average'] = 0\n",
    "\n",
    "# Ajout de la colonne imputée dans le DataFrame original\n",
    "df_imputed['solar_power_forecasts_average'] = df_output['solar_power_forecasts_average']\n",
    "\n",
    "# Nettoyage final du DataFrame (suppression des colonnes temporaires)\n",
    "df_imputed = df_output.drop(['date_string', 'hour'], axis=1).copy()"
   ],
   "outputs": [],
   "execution_count": 80
  },
  {
   "cell_type": "code",
   "id": "8799d2abae837e10",
   "metadata": {
    "ExecuteTime": {
     "end_time": "2025-03-20T08:28:39.013077Z",
     "start_time": "2025-03-20T08:28:39.003925Z"
    }
   },
   "source": [
    "df_imputed.info()"
   ],
   "outputs": [
    {
     "name": "stdout",
     "output_type": "stream",
     "text": [
      "<class 'pandas.core.frame.DataFrame'>\n",
      "RangeIndex: 15547 entries, 0 to 15546\n",
      "Data columns (total 10 columns):\n",
      " #   Column                         Non-Null Count  Dtype  \n",
      "---  ------                         --------------  -----  \n",
      " 0   DELIVERY_START                 15547 non-null  object \n",
      " 1   load_forecast                  15547 non-null  float64\n",
      " 2   coal_power_available           15546 non-null  float64\n",
      " 3   gas_power_available            15546 non-null  float64\n",
      " 4   nuclear_power_available        15546 non-null  float64\n",
      " 5   wind_power_forecasts_average   15547 non-null  float64\n",
      " 6   solar_power_forecasts_average  15547 non-null  float64\n",
      " 7   wind_power_forecasts_std       15547 non-null  float64\n",
      " 8   solar_power_forecasts_std      15499 non-null  float64\n",
      " 9   predicted_spot_price           5252 non-null   float64\n",
      "dtypes: float64(9), object(1)\n",
      "memory usage: 1.2+ MB\n"
     ]
    }
   ],
   "execution_count": 81
  },
  {
   "cell_type": "markdown",
   "id": "6cc1f6ca17ed5f16",
   "metadata": {},
   "source": [
    "### solar_power_forecasts_std"
   ]
  },
  {
   "cell_type": "code",
   "id": "c3df8381aaaf501d",
   "metadata": {
    "ExecuteTime": {
     "end_time": "2025-03-20T08:28:39.426023Z",
     "start_time": "2025-03-20T08:28:39.082720Z"
    }
   },
   "source": [
    "import pandas as pd\n",
    "import numpy as np\n",
    "\n",
    "# Préparation des données\n",
    "df_sorted = df_imputed.copy()\n",
    "df_sorted['date_string'] = df_sorted['DELIVERY_START'].astype(str).str.split(' ').str[0]\n",
    "df_sorted['hour'] = df_sorted['DELIVERY_START'].astype(str).str.split(' ').str[1].str.split(':').str[0].astype(int)\n",
    "\n",
    "# Copie du DataFrame pour l'imputation\n",
    "df_output = df_sorted.copy()\n",
    "\n",
    "feb20_data = df_sorted[df_sorted['date_string'] == '2023-02-20']\n",
    "hour_values = {}\n",
    "\n",
    "# Récupérer les valeurs par heure du 20 février\n",
    "for _, row in feb20_data.iterrows():\n",
    "    hour = row['hour']\n",
    "    value = row['solar_power_forecasts_std']\n",
    "    if not pd.isna(value):\n",
    "        hour_values[hour] = value\n",
    "\n",
    "# Imputer les valeurs manquantes en utilisant le modèle du 20 février\n",
    "for idx, row in df_sorted.iterrows():\n",
    "    if pd.isna(row['solar_power_forecasts_std']):\n",
    "        hour = row['hour']\n",
    "        if hour in hour_values:\n",
    "            df_output.loc[idx, 'solar_power_forecasts_std'] = hour_values[hour]\n",
    "        else:\n",
    "            # Pour les heures sans référence, mettre 0 (raisonnable pour l'énergie solaire la nuit)\n",
    "            df_output.loc[idx, 'solar_power_forecasts_std'] = 0\n",
    "\n",
    "# Ajout de la colonne imputée dans le DataFrame original\n",
    "df_imputed['solar_power_forecasts_std'] = df_output['solar_power_forecasts_std']\n",
    "\n",
    "# Nettoyage final du DataFrame\n",
    "df_imputed = df_output.drop(['date_string', 'hour'], axis=1).copy()"
   ],
   "outputs": [],
   "execution_count": 82
  },
  {
   "cell_type": "markdown",
   "id": "90676c59c3312821",
   "metadata": {},
   "source": [
    "### coal_power_available/gas_power_available/nuclear_power_available"
   ]
  },
  {
   "cell_type": "code",
   "id": "da7d67d255191237",
   "metadata": {
    "ExecuteTime": {
     "end_time": "2025-03-20T08:28:39.592084Z",
     "start_time": "2025-03-20T08:28:39.585441Z"
    }
   },
   "source": [
    "columns_to_ffill = ['coal_power_available', 'gas_power_available', 'nuclear_power_available']\n",
    "\n",
    "# Remplir les valeurs manquantes par la valeur précédente\n",
    "df_imputed[columns_to_ffill] = df_imputed[columns_to_ffill].ffill()"
   ],
   "outputs": [],
   "execution_count": 84
  },
  {
   "metadata": {
    "ExecuteTime": {
     "end_time": "2025-03-20T08:29:10.193574Z",
     "start_time": "2025-03-20T08:29:10.182536Z"
    }
   },
   "cell_type": "code",
   "source": "df_imputed.info()\n",
   "id": "4e0d641a99715675",
   "outputs": [
    {
     "name": "stdout",
     "output_type": "stream",
     "text": [
      "<class 'pandas.core.frame.DataFrame'>\n",
      "RangeIndex: 15529 entries, 0 to 15528\n",
      "Data columns (total 44 columns):\n",
      " #   Column                         Non-Null Count  Dtype         \n",
      "---  ------                         --------------  -----         \n",
      " 0   DELIVERY_START                 15529 non-null  datetime64[ns]\n",
      " 1   load_forecast                  15529 non-null  float64       \n",
      " 2   coal_power_available           15529 non-null  float64       \n",
      " 3   gas_power_available            15529 non-null  float64       \n",
      " 4   nuclear_power_available        15529 non-null  float64       \n",
      " 5   wind_power_forecasts_average   15529 non-null  float64       \n",
      " 6   solar_power_forecasts_average  15529 non-null  float64       \n",
      " 7   wind_power_forecasts_std       15529 non-null  float64       \n",
      " 8   solar_power_forecasts_std      15529 non-null  float64       \n",
      " 9   predicted_spot_price           5252 non-null   float64       \n",
      " 10  season_winter                  15529 non-null  int64         \n",
      " 11  season_spring                  15529 non-null  int64         \n",
      " 12  season_summer                  15529 non-null  int64         \n",
      " 13  season_fall                    15529 non-null  int64         \n",
      " 14  is_weekend                     15529 non-null  int64         \n",
      " 15  is_day                         15529 non-null  int64         \n",
      " 16  solar_ratio                    15529 non-null  float64       \n",
      " 17  wind_ratio                     15529 non-null  float64       \n",
      " 18  coal_ratio                     15529 non-null  float64       \n",
      " 19  gas_ratio                      15529 non-null  float64       \n",
      " 20  nuclear_ratio                  15529 non-null  float64       \n",
      " 21  fossil_ratio                   15529 non-null  float64       \n",
      " 22  green_ratio                    15529 non-null  float64       \n",
      " 23  controlable_ratio              15529 non-null  float64       \n",
      " 24  all_offer                      15529 non-null  float64       \n",
      " 25  offer_minus_load               15529 non-null  float64       \n",
      " 26  spot_id_delta_lag_1            15529 non-null  float64       \n",
      " 27  spot_id_delta_lag_2            15529 non-null  float64       \n",
      " 28  spot_id_delta_lag_3            15529 non-null  float64       \n",
      " 29  spot_id_delta_lag_4            15529 non-null  float64       \n",
      " 30  spot_id_delta_lag_5            15529 non-null  float64       \n",
      " 31  spot_id_delta_lag_6            15529 non-null  float64       \n",
      " 32  spot_id_delta_lag_7            15529 non-null  float64       \n",
      " 33  spot_id_delta_lag_8            15529 non-null  float64       \n",
      " 34  spot_id_delta_lag_9            15529 non-null  float64       \n",
      " 35  spot_id_delta_lag_10           15529 non-null  float64       \n",
      " 36  spot_id_delta_lag_11           15529 non-null  float64       \n",
      " 37  spot_id_delta_lag_12           15529 non-null  float64       \n",
      " 38  spot_id_delta_lag_13           15529 non-null  float64       \n",
      " 39  spot_id_delta_lag_14           15529 non-null  float64       \n",
      " 40  spot_id_delta_lag_15           15529 non-null  float64       \n",
      " 41  spot_id_delta_lag_16           15529 non-null  float64       \n",
      " 42  spot_id_delta_lag_17           15529 non-null  float64       \n",
      " 43  spot_id_delta_lag_18           15529 non-null  float64       \n",
      "dtypes: datetime64[ns](1), float64(37), int64(6)\n",
      "memory usage: 5.2 MB\n"
     ]
    }
   ],
   "execution_count": 94
  },
  {
   "cell_type": "markdown",
   "id": "408d05f5",
   "metadata": {},
   "source": [
    "## Ajout de variables"
   ]
  },
  {
   "cell_type": "markdown",
   "id": "d03fd414",
   "metadata": {},
   "source": [
    "### Ajout d'une variable saisonnière"
   ]
  },
  {
   "cell_type": "code",
   "id": "b5e5f3fb",
   "metadata": {
    "ExecuteTime": {
     "end_time": "2025-03-20T08:28:39.815425Z",
     "start_time": "2025-03-20T08:28:39.717505Z"
    }
   },
   "source": [
    "df_imputed['DELIVERY_START'] = pd.to_datetime(df_imputed['DELIVERY_START'], utc=True)\n",
    "df_imputed['season'] = df_imputed['DELIVERY_START'].dt.month.apply(lambda x: 'winter' if x in [12, 1, 2] else 'spring' if x in [3, 4, 5] else 'summer' if x in [6, 7, 8] else 'fall')\n",
    "\n",
    "# One-hot encoding de la variable 'season'\n",
    "df_imputed['season_winter'] = df_imputed['season'].apply(lambda x: 1 if x == 'winter' else 0)\n",
    "df_imputed['season_spring'] = df_imputed['season'].apply(lambda x: 1 if x == 'spring' else 0)\n",
    "df_imputed['season_summer'] = df_imputed['season'].apply(lambda x: 1 if x == 'summer' else 0)\n",
    "df_imputed['season_fall'] = df_imputed['season'].apply(lambda x: 1 if x == 'fall' else 0)\n",
    "df_imputed.drop('season', axis=1, inplace=True)"
   ],
   "outputs": [],
   "execution_count": 85
  },
  {
   "cell_type": "markdown",
   "id": "334487dc",
   "metadata": {},
   "source": "### Ajout d'une variable week-end"
  },
  {
   "cell_type": "code",
   "id": "558d2ecf",
   "metadata": {
    "ExecuteTime": {
     "end_time": "2025-03-20T08:28:39.888287Z",
     "start_time": "2025-03-20T08:28:39.877695Z"
    }
   },
   "source": "df_imputed['is_weekend'] = df_imputed['DELIVERY_START'].dt.dayofweek.apply(lambda x: 1 if x in [5, 6] else 0)",
   "outputs": [],
   "execution_count": 86
  },
  {
   "cell_type": "markdown",
   "id": "53388524",
   "metadata": {},
   "source": [
    "### Ajout d'une variable jour/nuit"
   ]
  },
  {
   "cell_type": "code",
   "id": "3b2287c4",
   "metadata": {
    "ExecuteTime": {
     "end_time": "2025-03-20T08:28:39.960835Z",
     "start_time": "2025-03-20T08:28:39.951398Z"
    }
   },
   "source": [
    "df_imputed['is_day'] = df_imputed['DELIVERY_START'].dt.hour.apply(lambda x: 1 if 8 <= x <= 20 else 0)"
   ],
   "outputs": [],
   "execution_count": 87
  },
  {
   "cell_type": "markdown",
   "id": "77877b3a",
   "metadata": {},
   "source": [
    "### Ratios pour chaque énergies"
   ]
  },
  {
   "cell_type": "code",
   "id": "59d61f17",
   "metadata": {
    "ExecuteTime": {
     "end_time": "2025-03-20T08:28:40.024949Z",
     "start_time": "2025-03-20T08:28:40.018764Z"
    }
   },
   "source": [
    "df_imputed['solar_ratio'] = df_imputed['solar_power_forecasts_average'] / df_imputed['load_forecast']\n",
    "df_imputed['wind_ratio'] = df_imputed['wind_power_forecasts_average'] / df_imputed['load_forecast']\n",
    "df_imputed['coal_ratio'] = df_imputed['coal_power_available'] / df_imputed['load_forecast']\n",
    "df_imputed['gas_ratio'] = df_imputed['gas_power_available'] / df_imputed['load_forecast']\n",
    "df_imputed['nuclear_ratio'] = df_imputed['nuclear_power_available'] / df_imputed['load_forecast']"
   ],
   "outputs": [],
   "execution_count": 88
  },
  {
   "cell_type": "markdown",
   "id": "4da16085",
   "metadata": {},
   "source": [
    "### Ratio fossile/non-fossile + contrôle/non-contrôlable"
   ]
  },
  {
   "cell_type": "code",
   "id": "2d6dc550",
   "metadata": {
    "ExecuteTime": {
     "end_time": "2025-03-20T08:28:40.146406Z",
     "start_time": "2025-03-20T08:28:40.140342Z"
    }
   },
   "source": [
    "df_imputed['fossil_ratio'] = (df_imputed['coal_power_available'] + df_imputed['gas_power_available']) / df_imputed['load_forecast']\n",
    "df_imputed['green_ratio'] = (df_imputed['wind_power_forecasts_average'] + df_imputed['solar_power_forecasts_average']) / df_imputed['load_forecast']\n",
    "df_imputed['nuclear_ratio'] = df_imputed['nuclear_power_available'] / df_imputed['load_forecast']\n",
    "df_imputed['controlable_ratio'] = (df_imputed['coal_power_available'] + df_imputed['gas_power_available'] + df_imputed['nuclear_power_available']) / df_imputed['load_forecast']"
   ],
   "outputs": [],
   "execution_count": 89
  },
  {
   "cell_type": "markdown",
   "id": "123ba986",
   "metadata": {},
   "source": [
    "### Demande-Offre"
   ]
  },
  {
   "cell_type": "code",
   "id": "17095473",
   "metadata": {
    "ExecuteTime": {
     "end_time": "2025-03-20T08:28:40.184939Z",
     "start_time": "2025-03-20T08:28:40.161346Z"
    }
   },
   "source": [
    "df_imputed['all_offer'] = df_imputed['coal_power_available'] + df_imputed['gas_power_available'] + df_imputed['nuclear_power_available'] + df_imputed['wind_power_forecasts_average'] + df_imputed['solar_power_forecasts_average']\n",
    "df_imputed['offer_minus_load'] = df_imputed['all_offer'] - df_imputed['load_forecast']"
   ],
   "outputs": [],
   "execution_count": 90
  },
  {
   "metadata": {},
   "cell_type": "markdown",
   "source": "### Variable lag",
   "id": "3d11e2bdcc3bfef3"
  },
  {
   "metadata": {
    "ExecuteTime": {
     "end_time": "2025-03-20T08:28:40.350824Z",
     "start_time": "2025-03-20T08:28:40.240977Z"
    }
   },
   "cell_type": "code",
   "source": [
    "# Concaténation des données train et test pour y\n",
    "df_Y = pd.concat([Y_train_full, y_test_full], axis=0, ignore_index=True)\n",
    "\n",
    "df_imputed['DELIVERY_START'] = pd.to_datetime(df_imputed['DELIVERY_START'], utc=True)\n",
    "df_Y['DELIVERY_START'] = pd.to_datetime(df_Y['DELIVERY_START'], utc=True)\n",
    "\n",
    "df_Y = df_Y.set_index('DELIVERY_START')\n",
    "df_imputed = df_imputed.set_index('DELIVERY_START')\n",
    "\n",
    "# Concaténation de df_imputed avec la colonne spot_id_delta de df_Y\n",
    "df_imputed = pd.concat([df_imputed, df_Y[['spot_id_delta']]], axis=1)\n",
    "\n",
    "# Création des colonnes de lag\n",
    "for i in range(1, 19):\n",
    "    df_imputed[f'spot_id_delta_lag_{i}'] = df_imputed['spot_id_delta'].shift(i)\n",
    "\n",
    "# Suppression de la colonne spot_id_delta originale\n",
    "df_imputed = df_imputed.drop(columns=['spot_id_delta'])\n",
    "\n",
    "df_imputed = df_imputed.iloc[18:].reset_index()"
   ],
   "id": "8a8616e40fa39e4d",
   "outputs": [],
   "execution_count": 91
  },
  {
   "metadata": {},
   "cell_type": "markdown",
   "source": "## Séparation des df",
   "id": "75171aa27fedf809"
  },
  {
   "metadata": {
    "ExecuteTime": {
     "end_time": "2025-03-20T08:28:40.425451Z",
     "start_time": "2025-03-20T08:28:40.410645Z"
    }
   },
   "cell_type": "code",
   "source": "df_imputed.head()",
   "id": "26600299e45a5841",
   "outputs": [
    {
     "data": {
      "text/plain": [
       "             DELIVERY_START  load_forecast  coal_power_available  \\\n",
       "0 2022-01-01 19:00:00+00:00        54017.0                3386.0   \n",
       "1 2022-01-01 20:00:00+00:00        52169.0                3386.0   \n",
       "2 2022-01-01 21:00:00+00:00        52946.0                3386.0   \n",
       "3 2022-01-01 22:00:00+00:00        53610.0                3386.0   \n",
       "4 2022-01-01 23:00:00+00:00        52698.0                2226.0   \n",
       "\n",
       "   gas_power_available  nuclear_power_available  wind_power_forecasts_average  \\\n",
       "0              11487.0                  44416.0                        4764.0   \n",
       "1              11487.0                  44416.0                        4897.0   \n",
       "2              11487.0                  44416.0                        5070.0   \n",
       "3              11487.0                  44416.0                        5302.0   \n",
       "4              11487.0                  43501.0                        5611.0   \n",
       "\n",
       "   solar_power_forecasts_average  wind_power_forecasts_std  \\\n",
       "0                            0.0                203.594501   \n",
       "1                            0.0                207.081251   \n",
       "2                            0.0                255.569770   \n",
       "3                            0.0                329.453124   \n",
       "4                            0.0                101.464263   \n",
       "\n",
       "   solar_power_forecasts_std  predicted_spot_price  ...  spot_id_delta_lag_9  \\\n",
       "0                        0.0                   NaN  ...           -15.489499   \n",
       "1                        0.0                   NaN  ...           -24.426790   \n",
       "2                        0.0                   NaN  ...           -27.509541   \n",
       "3                        0.0                   NaN  ...           -33.897831   \n",
       "4                        0.0                   NaN  ...           -28.229585   \n",
       "\n",
       "   spot_id_delta_lag_10  spot_id_delta_lag_11  spot_id_delta_lag_12  \\\n",
       "0            -12.352031            -17.576596             -2.770881   \n",
       "1            -15.489499            -12.352031            -17.576596   \n",
       "2            -24.426790            -15.489499            -12.352031   \n",
       "3            -27.509541            -24.426790            -15.489499   \n",
       "4            -33.897831            -27.509541            -24.426790   \n",
       "\n",
       "   spot_id_delta_lag_13  spot_id_delta_lag_14  spot_id_delta_lag_15  \\\n",
       "0             -0.943992              0.199907              1.938272   \n",
       "1             -2.770881             -0.943992              0.199907   \n",
       "2            -17.576596             -2.770881             -0.943992   \n",
       "3            -12.352031            -17.576596             -2.770881   \n",
       "4            -15.489499            -12.352031            -17.576596   \n",
       "\n",
       "   spot_id_delta_lag_16  spot_id_delta_lag_17  spot_id_delta_lag_18  \n",
       "0             -1.950193            -12.643588            -36.874770  \n",
       "1              1.938272             -1.950193            -12.643588  \n",
       "2              0.199907              1.938272             -1.950193  \n",
       "3             -0.943992              0.199907              1.938272  \n",
       "4             -2.770881             -0.943992              0.199907  \n",
       "\n",
       "[5 rows x 44 columns]"
      ],
      "text/html": [
       "<div>\n",
       "<style scoped>\n",
       "    .dataframe tbody tr th:only-of-type {\n",
       "        vertical-align: middle;\n",
       "    }\n",
       "\n",
       "    .dataframe tbody tr th {\n",
       "        vertical-align: top;\n",
       "    }\n",
       "\n",
       "    .dataframe thead th {\n",
       "        text-align: right;\n",
       "    }\n",
       "</style>\n",
       "<table border=\"1\" class=\"dataframe\">\n",
       "  <thead>\n",
       "    <tr style=\"text-align: right;\">\n",
       "      <th></th>\n",
       "      <th>DELIVERY_START</th>\n",
       "      <th>load_forecast</th>\n",
       "      <th>coal_power_available</th>\n",
       "      <th>gas_power_available</th>\n",
       "      <th>nuclear_power_available</th>\n",
       "      <th>wind_power_forecasts_average</th>\n",
       "      <th>solar_power_forecasts_average</th>\n",
       "      <th>wind_power_forecasts_std</th>\n",
       "      <th>solar_power_forecasts_std</th>\n",
       "      <th>predicted_spot_price</th>\n",
       "      <th>...</th>\n",
       "      <th>spot_id_delta_lag_9</th>\n",
       "      <th>spot_id_delta_lag_10</th>\n",
       "      <th>spot_id_delta_lag_11</th>\n",
       "      <th>spot_id_delta_lag_12</th>\n",
       "      <th>spot_id_delta_lag_13</th>\n",
       "      <th>spot_id_delta_lag_14</th>\n",
       "      <th>spot_id_delta_lag_15</th>\n",
       "      <th>spot_id_delta_lag_16</th>\n",
       "      <th>spot_id_delta_lag_17</th>\n",
       "      <th>spot_id_delta_lag_18</th>\n",
       "    </tr>\n",
       "  </thead>\n",
       "  <tbody>\n",
       "    <tr>\n",
       "      <th>0</th>\n",
       "      <td>2022-01-01 19:00:00+00:00</td>\n",
       "      <td>54017.0</td>\n",
       "      <td>3386.0</td>\n",
       "      <td>11487.0</td>\n",
       "      <td>44416.0</td>\n",
       "      <td>4764.0</td>\n",
       "      <td>0.0</td>\n",
       "      <td>203.594501</td>\n",
       "      <td>0.0</td>\n",
       "      <td>NaN</td>\n",
       "      <td>...</td>\n",
       "      <td>-15.489499</td>\n",
       "      <td>-12.352031</td>\n",
       "      <td>-17.576596</td>\n",
       "      <td>-2.770881</td>\n",
       "      <td>-0.943992</td>\n",
       "      <td>0.199907</td>\n",
       "      <td>1.938272</td>\n",
       "      <td>-1.950193</td>\n",
       "      <td>-12.643588</td>\n",
       "      <td>-36.874770</td>\n",
       "    </tr>\n",
       "    <tr>\n",
       "      <th>1</th>\n",
       "      <td>2022-01-01 20:00:00+00:00</td>\n",
       "      <td>52169.0</td>\n",
       "      <td>3386.0</td>\n",
       "      <td>11487.0</td>\n",
       "      <td>44416.0</td>\n",
       "      <td>4897.0</td>\n",
       "      <td>0.0</td>\n",
       "      <td>207.081251</td>\n",
       "      <td>0.0</td>\n",
       "      <td>NaN</td>\n",
       "      <td>...</td>\n",
       "      <td>-24.426790</td>\n",
       "      <td>-15.489499</td>\n",
       "      <td>-12.352031</td>\n",
       "      <td>-17.576596</td>\n",
       "      <td>-2.770881</td>\n",
       "      <td>-0.943992</td>\n",
       "      <td>0.199907</td>\n",
       "      <td>1.938272</td>\n",
       "      <td>-1.950193</td>\n",
       "      <td>-12.643588</td>\n",
       "    </tr>\n",
       "    <tr>\n",
       "      <th>2</th>\n",
       "      <td>2022-01-01 21:00:00+00:00</td>\n",
       "      <td>52946.0</td>\n",
       "      <td>3386.0</td>\n",
       "      <td>11487.0</td>\n",
       "      <td>44416.0</td>\n",
       "      <td>5070.0</td>\n",
       "      <td>0.0</td>\n",
       "      <td>255.569770</td>\n",
       "      <td>0.0</td>\n",
       "      <td>NaN</td>\n",
       "      <td>...</td>\n",
       "      <td>-27.509541</td>\n",
       "      <td>-24.426790</td>\n",
       "      <td>-15.489499</td>\n",
       "      <td>-12.352031</td>\n",
       "      <td>-17.576596</td>\n",
       "      <td>-2.770881</td>\n",
       "      <td>-0.943992</td>\n",
       "      <td>0.199907</td>\n",
       "      <td>1.938272</td>\n",
       "      <td>-1.950193</td>\n",
       "    </tr>\n",
       "    <tr>\n",
       "      <th>3</th>\n",
       "      <td>2022-01-01 22:00:00+00:00</td>\n",
       "      <td>53610.0</td>\n",
       "      <td>3386.0</td>\n",
       "      <td>11487.0</td>\n",
       "      <td>44416.0</td>\n",
       "      <td>5302.0</td>\n",
       "      <td>0.0</td>\n",
       "      <td>329.453124</td>\n",
       "      <td>0.0</td>\n",
       "      <td>NaN</td>\n",
       "      <td>...</td>\n",
       "      <td>-33.897831</td>\n",
       "      <td>-27.509541</td>\n",
       "      <td>-24.426790</td>\n",
       "      <td>-15.489499</td>\n",
       "      <td>-12.352031</td>\n",
       "      <td>-17.576596</td>\n",
       "      <td>-2.770881</td>\n",
       "      <td>-0.943992</td>\n",
       "      <td>0.199907</td>\n",
       "      <td>1.938272</td>\n",
       "    </tr>\n",
       "    <tr>\n",
       "      <th>4</th>\n",
       "      <td>2022-01-01 23:00:00+00:00</td>\n",
       "      <td>52698.0</td>\n",
       "      <td>2226.0</td>\n",
       "      <td>11487.0</td>\n",
       "      <td>43501.0</td>\n",
       "      <td>5611.0</td>\n",
       "      <td>0.0</td>\n",
       "      <td>101.464263</td>\n",
       "      <td>0.0</td>\n",
       "      <td>NaN</td>\n",
       "      <td>...</td>\n",
       "      <td>-28.229585</td>\n",
       "      <td>-33.897831</td>\n",
       "      <td>-27.509541</td>\n",
       "      <td>-24.426790</td>\n",
       "      <td>-15.489499</td>\n",
       "      <td>-12.352031</td>\n",
       "      <td>-17.576596</td>\n",
       "      <td>-2.770881</td>\n",
       "      <td>-0.943992</td>\n",
       "      <td>0.199907</td>\n",
       "    </tr>\n",
       "  </tbody>\n",
       "</table>\n",
       "<p>5 rows × 44 columns</p>\n",
       "</div>"
      ]
     },
     "execution_count": 92,
     "metadata": {},
     "output_type": "execute_result"
    }
   ],
   "execution_count": 92
  },
  {
   "metadata": {
    "ExecuteTime": {
     "end_time": "2025-03-20T08:28:40.619932Z",
     "start_time": "2025-03-20T08:28:40.538119Z"
    }
   },
   "cell_type": "code",
   "source": [
    "df_imputed['DELIVERY_START'] = pd.to_datetime(df_imputed['DELIVERY_START']).dt.tz_localize(None)\n",
    "df_imputed.to_excel('df_imputed.xlsx', index=False)"
   ],
   "id": "8acf2d977c9935f8",
   "outputs": [
    {
     "ename": "PermissionError",
     "evalue": "[Errno 13] Permission denied: 'df_imputed.xlsx'",
     "output_type": "error",
     "traceback": [
      "\u001B[1;31m---------------------------------------------------------------------------\u001B[0m",
      "\u001B[1;31mPermissionError\u001B[0m                           Traceback (most recent call last)",
      "Cell \u001B[1;32mIn[93], line 2\u001B[0m\n\u001B[0;32m      1\u001B[0m df_imputed[\u001B[38;5;124m'\u001B[39m\u001B[38;5;124mDELIVERY_START\u001B[39m\u001B[38;5;124m'\u001B[39m] \u001B[38;5;241m=\u001B[39m pd\u001B[38;5;241m.\u001B[39mto_datetime(df_imputed[\u001B[38;5;124m'\u001B[39m\u001B[38;5;124mDELIVERY_START\u001B[39m\u001B[38;5;124m'\u001B[39m])\u001B[38;5;241m.\u001B[39mdt\u001B[38;5;241m.\u001B[39mtz_localize(\u001B[38;5;28;01mNone\u001B[39;00m)\n\u001B[1;32m----> 2\u001B[0m \u001B[43mdf_imputed\u001B[49m\u001B[38;5;241;43m.\u001B[39;49m\u001B[43mto_excel\u001B[49m\u001B[43m(\u001B[49m\u001B[38;5;124;43m'\u001B[39;49m\u001B[38;5;124;43mdf_imputed.xlsx\u001B[39;49m\u001B[38;5;124;43m'\u001B[39;49m\u001B[43m,\u001B[49m\u001B[43m \u001B[49m\u001B[43mindex\u001B[49m\u001B[38;5;241;43m=\u001B[39;49m\u001B[38;5;28;43;01mFalse\u001B[39;49;00m\u001B[43m)\u001B[49m\n",
      "File \u001B[1;32m~\\AppData\\Local\\Programs\\Python\\Python313\\Lib\\site-packages\\pandas\\util\\_decorators.py:333\u001B[0m, in \u001B[0;36mdeprecate_nonkeyword_arguments.<locals>.decorate.<locals>.wrapper\u001B[1;34m(*args, **kwargs)\u001B[0m\n\u001B[0;32m    327\u001B[0m \u001B[38;5;28;01mif\u001B[39;00m \u001B[38;5;28mlen\u001B[39m(args) \u001B[38;5;241m>\u001B[39m num_allow_args:\n\u001B[0;32m    328\u001B[0m     warnings\u001B[38;5;241m.\u001B[39mwarn(\n\u001B[0;32m    329\u001B[0m         msg\u001B[38;5;241m.\u001B[39mformat(arguments\u001B[38;5;241m=\u001B[39m_format_argument_list(allow_args)),\n\u001B[0;32m    330\u001B[0m         \u001B[38;5;167;01mFutureWarning\u001B[39;00m,\n\u001B[0;32m    331\u001B[0m         stacklevel\u001B[38;5;241m=\u001B[39mfind_stack_level(),\n\u001B[0;32m    332\u001B[0m     )\n\u001B[1;32m--> 333\u001B[0m \u001B[38;5;28;01mreturn\u001B[39;00m \u001B[43mfunc\u001B[49m\u001B[43m(\u001B[49m\u001B[38;5;241;43m*\u001B[39;49m\u001B[43margs\u001B[49m\u001B[43m,\u001B[49m\u001B[43m \u001B[49m\u001B[38;5;241;43m*\u001B[39;49m\u001B[38;5;241;43m*\u001B[39;49m\u001B[43mkwargs\u001B[49m\u001B[43m)\u001B[49m\n",
      "File \u001B[1;32m~\\AppData\\Local\\Programs\\Python\\Python313\\Lib\\site-packages\\pandas\\core\\generic.py:2417\u001B[0m, in \u001B[0;36mNDFrame.to_excel\u001B[1;34m(self, excel_writer, sheet_name, na_rep, float_format, columns, header, index, index_label, startrow, startcol, engine, merge_cells, inf_rep, freeze_panes, storage_options, engine_kwargs)\u001B[0m\n\u001B[0;32m   2404\u001B[0m \u001B[38;5;28;01mfrom\u001B[39;00m \u001B[38;5;21;01mpandas\u001B[39;00m\u001B[38;5;21;01m.\u001B[39;00m\u001B[38;5;21;01mio\u001B[39;00m\u001B[38;5;21;01m.\u001B[39;00m\u001B[38;5;21;01mformats\u001B[39;00m\u001B[38;5;21;01m.\u001B[39;00m\u001B[38;5;21;01mexcel\u001B[39;00m \u001B[38;5;28;01mimport\u001B[39;00m ExcelFormatter\n\u001B[0;32m   2406\u001B[0m formatter \u001B[38;5;241m=\u001B[39m ExcelFormatter(\n\u001B[0;32m   2407\u001B[0m     df,\n\u001B[0;32m   2408\u001B[0m     na_rep\u001B[38;5;241m=\u001B[39mna_rep,\n\u001B[1;32m   (...)\u001B[0m\n\u001B[0;32m   2415\u001B[0m     inf_rep\u001B[38;5;241m=\u001B[39minf_rep,\n\u001B[0;32m   2416\u001B[0m )\n\u001B[1;32m-> 2417\u001B[0m \u001B[43mformatter\u001B[49m\u001B[38;5;241;43m.\u001B[39;49m\u001B[43mwrite\u001B[49m\u001B[43m(\u001B[49m\n\u001B[0;32m   2418\u001B[0m \u001B[43m    \u001B[49m\u001B[43mexcel_writer\u001B[49m\u001B[43m,\u001B[49m\n\u001B[0;32m   2419\u001B[0m \u001B[43m    \u001B[49m\u001B[43msheet_name\u001B[49m\u001B[38;5;241;43m=\u001B[39;49m\u001B[43msheet_name\u001B[49m\u001B[43m,\u001B[49m\n\u001B[0;32m   2420\u001B[0m \u001B[43m    \u001B[49m\u001B[43mstartrow\u001B[49m\u001B[38;5;241;43m=\u001B[39;49m\u001B[43mstartrow\u001B[49m\u001B[43m,\u001B[49m\n\u001B[0;32m   2421\u001B[0m \u001B[43m    \u001B[49m\u001B[43mstartcol\u001B[49m\u001B[38;5;241;43m=\u001B[39;49m\u001B[43mstartcol\u001B[49m\u001B[43m,\u001B[49m\n\u001B[0;32m   2422\u001B[0m \u001B[43m    \u001B[49m\u001B[43mfreeze_panes\u001B[49m\u001B[38;5;241;43m=\u001B[39;49m\u001B[43mfreeze_panes\u001B[49m\u001B[43m,\u001B[49m\n\u001B[0;32m   2423\u001B[0m \u001B[43m    \u001B[49m\u001B[43mengine\u001B[49m\u001B[38;5;241;43m=\u001B[39;49m\u001B[43mengine\u001B[49m\u001B[43m,\u001B[49m\n\u001B[0;32m   2424\u001B[0m \u001B[43m    \u001B[49m\u001B[43mstorage_options\u001B[49m\u001B[38;5;241;43m=\u001B[39;49m\u001B[43mstorage_options\u001B[49m\u001B[43m,\u001B[49m\n\u001B[0;32m   2425\u001B[0m \u001B[43m    \u001B[49m\u001B[43mengine_kwargs\u001B[49m\u001B[38;5;241;43m=\u001B[39;49m\u001B[43mengine_kwargs\u001B[49m\u001B[43m,\u001B[49m\n\u001B[0;32m   2426\u001B[0m \u001B[43m\u001B[49m\u001B[43m)\u001B[49m\n",
      "File \u001B[1;32m~\\AppData\\Local\\Programs\\Python\\Python313\\Lib\\site-packages\\pandas\\io\\formats\\excel.py:943\u001B[0m, in \u001B[0;36mExcelFormatter.write\u001B[1;34m(self, writer, sheet_name, startrow, startcol, freeze_panes, engine, storage_options, engine_kwargs)\u001B[0m\n\u001B[0;32m    941\u001B[0m     need_save \u001B[38;5;241m=\u001B[39m \u001B[38;5;28;01mFalse\u001B[39;00m\n\u001B[0;32m    942\u001B[0m \u001B[38;5;28;01melse\u001B[39;00m:\n\u001B[1;32m--> 943\u001B[0m     writer \u001B[38;5;241m=\u001B[39m \u001B[43mExcelWriter\u001B[49m\u001B[43m(\u001B[49m\n\u001B[0;32m    944\u001B[0m \u001B[43m        \u001B[49m\u001B[43mwriter\u001B[49m\u001B[43m,\u001B[49m\n\u001B[0;32m    945\u001B[0m \u001B[43m        \u001B[49m\u001B[43mengine\u001B[49m\u001B[38;5;241;43m=\u001B[39;49m\u001B[43mengine\u001B[49m\u001B[43m,\u001B[49m\n\u001B[0;32m    946\u001B[0m \u001B[43m        \u001B[49m\u001B[43mstorage_options\u001B[49m\u001B[38;5;241;43m=\u001B[39;49m\u001B[43mstorage_options\u001B[49m\u001B[43m,\u001B[49m\n\u001B[0;32m    947\u001B[0m \u001B[43m        \u001B[49m\u001B[43mengine_kwargs\u001B[49m\u001B[38;5;241;43m=\u001B[39;49m\u001B[43mengine_kwargs\u001B[49m\u001B[43m,\u001B[49m\n\u001B[0;32m    948\u001B[0m \u001B[43m    \u001B[49m\u001B[43m)\u001B[49m\n\u001B[0;32m    949\u001B[0m     need_save \u001B[38;5;241m=\u001B[39m \u001B[38;5;28;01mTrue\u001B[39;00m\n\u001B[0;32m    951\u001B[0m \u001B[38;5;28;01mtry\u001B[39;00m:\n",
      "File \u001B[1;32m~\\AppData\\Local\\Programs\\Python\\Python313\\Lib\\site-packages\\pandas\\io\\excel\\_openpyxl.py:61\u001B[0m, in \u001B[0;36mOpenpyxlWriter.__init__\u001B[1;34m(self, path, engine, date_format, datetime_format, mode, storage_options, if_sheet_exists, engine_kwargs, **kwargs)\u001B[0m\n\u001B[0;32m     57\u001B[0m \u001B[38;5;28;01mfrom\u001B[39;00m \u001B[38;5;21;01mopenpyxl\u001B[39;00m\u001B[38;5;21;01m.\u001B[39;00m\u001B[38;5;21;01mworkbook\u001B[39;00m \u001B[38;5;28;01mimport\u001B[39;00m Workbook\n\u001B[0;32m     59\u001B[0m engine_kwargs \u001B[38;5;241m=\u001B[39m combine_kwargs(engine_kwargs, kwargs)\n\u001B[1;32m---> 61\u001B[0m \u001B[38;5;28;43msuper\u001B[39;49m\u001B[43m(\u001B[49m\u001B[43m)\u001B[49m\u001B[38;5;241;43m.\u001B[39;49m\u001B[38;5;21;43m__init__\u001B[39;49m\u001B[43m(\u001B[49m\n\u001B[0;32m     62\u001B[0m \u001B[43m    \u001B[49m\u001B[43mpath\u001B[49m\u001B[43m,\u001B[49m\n\u001B[0;32m     63\u001B[0m \u001B[43m    \u001B[49m\u001B[43mmode\u001B[49m\u001B[38;5;241;43m=\u001B[39;49m\u001B[43mmode\u001B[49m\u001B[43m,\u001B[49m\n\u001B[0;32m     64\u001B[0m \u001B[43m    \u001B[49m\u001B[43mstorage_options\u001B[49m\u001B[38;5;241;43m=\u001B[39;49m\u001B[43mstorage_options\u001B[49m\u001B[43m,\u001B[49m\n\u001B[0;32m     65\u001B[0m \u001B[43m    \u001B[49m\u001B[43mif_sheet_exists\u001B[49m\u001B[38;5;241;43m=\u001B[39;49m\u001B[43mif_sheet_exists\u001B[49m\u001B[43m,\u001B[49m\n\u001B[0;32m     66\u001B[0m \u001B[43m    \u001B[49m\u001B[43mengine_kwargs\u001B[49m\u001B[38;5;241;43m=\u001B[39;49m\u001B[43mengine_kwargs\u001B[49m\u001B[43m,\u001B[49m\n\u001B[0;32m     67\u001B[0m \u001B[43m\u001B[49m\u001B[43m)\u001B[49m\n\u001B[0;32m     69\u001B[0m \u001B[38;5;66;03m# ExcelWriter replaced \"a\" by \"r+\" to allow us to first read the excel file from\u001B[39;00m\n\u001B[0;32m     70\u001B[0m \u001B[38;5;66;03m# the file and later write to it\u001B[39;00m\n\u001B[0;32m     71\u001B[0m \u001B[38;5;28;01mif\u001B[39;00m \u001B[38;5;124m\"\u001B[39m\u001B[38;5;124mr+\u001B[39m\u001B[38;5;124m\"\u001B[39m \u001B[38;5;129;01min\u001B[39;00m \u001B[38;5;28mself\u001B[39m\u001B[38;5;241m.\u001B[39m_mode:  \u001B[38;5;66;03m# Load from existing workbook\u001B[39;00m\n",
      "File \u001B[1;32m~\\AppData\\Local\\Programs\\Python\\Python313\\Lib\\site-packages\\pandas\\io\\excel\\_base.py:1246\u001B[0m, in \u001B[0;36mExcelWriter.__init__\u001B[1;34m(self, path, engine, date_format, datetime_format, mode, storage_options, if_sheet_exists, engine_kwargs)\u001B[0m\n\u001B[0;32m   1242\u001B[0m \u001B[38;5;28mself\u001B[39m\u001B[38;5;241m.\u001B[39m_handles \u001B[38;5;241m=\u001B[39m IOHandles(\n\u001B[0;32m   1243\u001B[0m     cast(IO[\u001B[38;5;28mbytes\u001B[39m], path), compression\u001B[38;5;241m=\u001B[39m{\u001B[38;5;124m\"\u001B[39m\u001B[38;5;124mcompression\u001B[39m\u001B[38;5;124m\"\u001B[39m: \u001B[38;5;28;01mNone\u001B[39;00m}\n\u001B[0;32m   1244\u001B[0m )\n\u001B[0;32m   1245\u001B[0m \u001B[38;5;28;01mif\u001B[39;00m \u001B[38;5;129;01mnot\u001B[39;00m \u001B[38;5;28misinstance\u001B[39m(path, ExcelWriter):\n\u001B[1;32m-> 1246\u001B[0m     \u001B[38;5;28mself\u001B[39m\u001B[38;5;241m.\u001B[39m_handles \u001B[38;5;241m=\u001B[39m \u001B[43mget_handle\u001B[49m\u001B[43m(\u001B[49m\n\u001B[0;32m   1247\u001B[0m \u001B[43m        \u001B[49m\u001B[43mpath\u001B[49m\u001B[43m,\u001B[49m\u001B[43m \u001B[49m\u001B[43mmode\u001B[49m\u001B[43m,\u001B[49m\u001B[43m \u001B[49m\u001B[43mstorage_options\u001B[49m\u001B[38;5;241;43m=\u001B[39;49m\u001B[43mstorage_options\u001B[49m\u001B[43m,\u001B[49m\u001B[43m \u001B[49m\u001B[43mis_text\u001B[49m\u001B[38;5;241;43m=\u001B[39;49m\u001B[38;5;28;43;01mFalse\u001B[39;49;00m\n\u001B[0;32m   1248\u001B[0m \u001B[43m    \u001B[49m\u001B[43m)\u001B[49m\n\u001B[0;32m   1249\u001B[0m \u001B[38;5;28mself\u001B[39m\u001B[38;5;241m.\u001B[39m_cur_sheet \u001B[38;5;241m=\u001B[39m \u001B[38;5;28;01mNone\u001B[39;00m\n\u001B[0;32m   1251\u001B[0m \u001B[38;5;28;01mif\u001B[39;00m date_format \u001B[38;5;129;01mis\u001B[39;00m \u001B[38;5;28;01mNone\u001B[39;00m:\n",
      "File \u001B[1;32m~\\AppData\\Local\\Programs\\Python\\Python313\\Lib\\site-packages\\pandas\\io\\common.py:882\u001B[0m, in \u001B[0;36mget_handle\u001B[1;34m(path_or_buf, mode, encoding, compression, memory_map, is_text, errors, storage_options)\u001B[0m\n\u001B[0;32m    873\u001B[0m         handle \u001B[38;5;241m=\u001B[39m \u001B[38;5;28mopen\u001B[39m(\n\u001B[0;32m    874\u001B[0m             handle,\n\u001B[0;32m    875\u001B[0m             ioargs\u001B[38;5;241m.\u001B[39mmode,\n\u001B[1;32m   (...)\u001B[0m\n\u001B[0;32m    878\u001B[0m             newline\u001B[38;5;241m=\u001B[39m\u001B[38;5;124m\"\u001B[39m\u001B[38;5;124m\"\u001B[39m,\n\u001B[0;32m    879\u001B[0m         )\n\u001B[0;32m    880\u001B[0m     \u001B[38;5;28;01melse\u001B[39;00m:\n\u001B[0;32m    881\u001B[0m         \u001B[38;5;66;03m# Binary mode\u001B[39;00m\n\u001B[1;32m--> 882\u001B[0m         handle \u001B[38;5;241m=\u001B[39m \u001B[38;5;28;43mopen\u001B[39;49m\u001B[43m(\u001B[49m\u001B[43mhandle\u001B[49m\u001B[43m,\u001B[49m\u001B[43m \u001B[49m\u001B[43mioargs\u001B[49m\u001B[38;5;241;43m.\u001B[39;49m\u001B[43mmode\u001B[49m\u001B[43m)\u001B[49m\n\u001B[0;32m    883\u001B[0m     handles\u001B[38;5;241m.\u001B[39mappend(handle)\n\u001B[0;32m    885\u001B[0m \u001B[38;5;66;03m# Convert BytesIO or file objects passed with an encoding\u001B[39;00m\n",
      "\u001B[1;31mPermissionError\u001B[0m: [Errno 13] Permission denied: 'df_imputed.xlsx'"
     ]
    }
   ],
   "execution_count": 93
  },
  {
   "metadata": {
    "ExecuteTime": {
     "end_time": "2025-03-20T08:28:40.619895600Z",
     "start_time": "2025-03-20T08:08:53.125716Z"
    }
   },
   "cell_type": "code",
   "source": [
    "df_imputed_train = df_imputed.iloc[:train_size].copy()\n",
    "df_imputed_test = df_imputed.iloc[train_size:].copy()\n",
    "df_imputed.head()\n",
    "df_imputed.info"
   ],
   "id": "cd7725854a1fa100",
   "outputs": [
    {
     "data": {
      "text/plain": [
       "<bound method DataFrame.info of            DELIVERY_START  load_forecast  coal_power_available  \\\n",
       "0     2022-01-01 19:00:00        54017.0                3386.0   \n",
       "1     2022-01-01 20:00:00        52169.0                3386.0   \n",
       "2     2022-01-01 21:00:00        52946.0                3386.0   \n",
       "3     2022-01-01 22:00:00        53610.0                3386.0   \n",
       "4     2022-01-01 23:00:00        52698.0                2226.0   \n",
       "...                   ...            ...                   ...   \n",
       "15524 2023-10-24 17:00:00        49686.0                2226.0   \n",
       "15525 2023-10-24 18:00:00        53397.0                2226.0   \n",
       "15526 2023-10-24 19:00:00        50586.0                2226.0   \n",
       "15527 2023-10-24 20:00:00        46777.0                2226.0   \n",
       "15528 2023-10-24 21:00:00        46380.0                2226.0   \n",
       "\n",
       "       gas_power_available  nuclear_power_available  \\\n",
       "0                  11487.0                  44416.0   \n",
       "1                  11487.0                  44416.0   \n",
       "2                  11487.0                  44416.0   \n",
       "3                  11487.0                  44416.0   \n",
       "4                  11487.0                  43501.0   \n",
       "...                    ...                      ...   \n",
       "15524              11749.0                  42980.0   \n",
       "15525              11749.0                  42980.0   \n",
       "15526              11749.0                  42980.0   \n",
       "15527              11749.0                  42980.0   \n",
       "15528              11749.0                  42980.0   \n",
       "\n",
       "       wind_power_forecasts_average  solar_power_forecasts_average  \\\n",
       "0                            4764.0                            0.0   \n",
       "1                            4897.0                            0.0   \n",
       "2                            5070.0                            0.0   \n",
       "3                            5302.0                            0.0   \n",
       "4                            5611.0                            0.0   \n",
       "...                             ...                            ...   \n",
       "15524                        4901.0                            0.0   \n",
       "15525                        5584.0                            0.0   \n",
       "15526                        6306.0                            0.0   \n",
       "15527                        6959.0                            0.0   \n",
       "15528                        7444.0                            0.0   \n",
       "\n",
       "       wind_power_forecasts_std  solar_power_forecasts_std  \\\n",
       "0                    203.594501                        0.0   \n",
       "1                    207.081251                        0.0   \n",
       "2                    255.569770                        0.0   \n",
       "3                    329.453124                        0.0   \n",
       "4                    101.464263                        0.0   \n",
       "...                         ...                        ...   \n",
       "15524                247.887323                        0.0   \n",
       "15525                343.192642                        0.0   \n",
       "15526                471.875973                        0.0   \n",
       "15527                595.528100                        0.0   \n",
       "15528                675.624809                        0.0   \n",
       "\n",
       "       predicted_spot_price  ...  spot_id_delta_lag_9  spot_id_delta_lag_10  \\\n",
       "0                       NaN  ...           -15.489499            -12.352031   \n",
       "1                       NaN  ...           -24.426790            -15.489499   \n",
       "2                       NaN  ...           -27.509541            -24.426790   \n",
       "3                       NaN  ...           -33.897831            -27.509541   \n",
       "4                       NaN  ...           -28.229585            -33.897831   \n",
       "...                     ...  ...                  ...                   ...   \n",
       "15524                125.67  ...            13.714523             19.630784   \n",
       "15525                139.58  ...           -14.539177             13.714523   \n",
       "15526                147.93  ...            -7.990873            -14.539177   \n",
       "15527                122.20  ...            -7.049737             -7.990873   \n",
       "15528                105.12  ...             4.148178             -7.049737   \n",
       "\n",
       "       spot_id_delta_lag_11  spot_id_delta_lag_12  spot_id_delta_lag_13  \\\n",
       "0                -17.576596             -2.770881             -0.943992   \n",
       "1                -12.352031            -17.576596             -2.770881   \n",
       "2                -15.489499            -12.352031            -17.576596   \n",
       "3                -24.426790            -15.489499            -12.352031   \n",
       "4                -27.509541            -24.426790            -15.489499   \n",
       "...                     ...                   ...                   ...   \n",
       "15524             17.127084             24.705491              1.010201   \n",
       "15525             19.630784             17.127084             24.705491   \n",
       "15526             13.714523             19.630784             17.127084   \n",
       "15527            -14.539177             13.714523             19.630784   \n",
       "15528             -7.990873            -14.539177             13.714523   \n",
       "\n",
       "       spot_id_delta_lag_14  spot_id_delta_lag_15  spot_id_delta_lag_16  \\\n",
       "0                  0.199907              1.938272             -1.950193   \n",
       "1                 -0.943992              0.199907              1.938272   \n",
       "2                 -2.770881             -0.943992              0.199907   \n",
       "3                -17.576596             -2.770881             -0.943992   \n",
       "4                -12.352031            -17.576596             -2.770881   \n",
       "...                     ...                   ...                   ...   \n",
       "15524             -5.376914             -3.292993              3.521365   \n",
       "15525              1.010201             -5.376914             -3.292993   \n",
       "15526             24.705491              1.010201             -5.376914   \n",
       "15527             17.127084             24.705491              1.010201   \n",
       "15528             19.630784             17.127084             24.705491   \n",
       "\n",
       "       spot_id_delta_lag_17  spot_id_delta_lag_18  \n",
       "0                -12.643588            -36.874770  \n",
       "1                 -1.950193            -12.643588  \n",
       "2                  1.938272             -1.950193  \n",
       "3                  0.199907              1.938272  \n",
       "4                 -0.943992              0.199907  \n",
       "...                     ...                   ...  \n",
       "15524             17.474674              6.637412  \n",
       "15525              3.521365             17.474674  \n",
       "15526             -3.292993              3.521365  \n",
       "15527             -5.376914             -3.292993  \n",
       "15528              1.010201             -5.376914  \n",
       "\n",
       "[15529 rows x 44 columns]>"
      ]
     },
     "execution_count": 32,
     "metadata": {},
     "output_type": "execute_result"
    }
   ],
   "execution_count": 32
  },
  {
   "metadata": {
    "ExecuteTime": {
     "end_time": "2025-03-20T08:28:40.665833700Z",
     "start_time": "2025-03-20T08:08:53.387475Z"
    }
   },
   "cell_type": "code",
   "source": "df_imputed.info()\n",
   "id": "14b4d4323841ad2",
   "outputs": [
    {
     "name": "stdout",
     "output_type": "stream",
     "text": [
      "<class 'pandas.core.frame.DataFrame'>\n",
      "RangeIndex: 15529 entries, 0 to 15528\n",
      "Data columns (total 44 columns):\n",
      " #   Column                         Non-Null Count  Dtype         \n",
      "---  ------                         --------------  -----         \n",
      " 0   DELIVERY_START                 15529 non-null  datetime64[ns]\n",
      " 1   load_forecast                  15529 non-null  float64       \n",
      " 2   coal_power_available           15529 non-null  float64       \n",
      " 3   gas_power_available            15529 non-null  float64       \n",
      " 4   nuclear_power_available        15529 non-null  float64       \n",
      " 5   wind_power_forecasts_average   15529 non-null  float64       \n",
      " 6   solar_power_forecasts_average  15481 non-null  float64       \n",
      " 7   wind_power_forecasts_std       15529 non-null  float64       \n",
      " 8   solar_power_forecasts_std      15505 non-null  float64       \n",
      " 9   predicted_spot_price           5252 non-null   float64       \n",
      " 10  season_winter                  15529 non-null  int64         \n",
      " 11  season_spring                  15529 non-null  int64         \n",
      " 12  season_summer                  15529 non-null  int64         \n",
      " 13  season_fall                    15529 non-null  int64         \n",
      " 14  is_weekend                     15529 non-null  int64         \n",
      " 15  is_day                         15529 non-null  int64         \n",
      " 16  solar_ratio                    15481 non-null  float64       \n",
      " 17  wind_ratio                     15529 non-null  float64       \n",
      " 18  coal_ratio                     15529 non-null  float64       \n",
      " 19  gas_ratio                      15529 non-null  float64       \n",
      " 20  nuclear_ratio                  15529 non-null  float64       \n",
      " 21  fossil_ratio                   15529 non-null  float64       \n",
      " 22  green_ratio                    15481 non-null  float64       \n",
      " 23  controlable_ratio              15529 non-null  float64       \n",
      " 24  all_offer                      15481 non-null  float64       \n",
      " 25  offer_minus_load               15481 non-null  float64       \n",
      " 26  spot_id_delta_lag_1            15529 non-null  float64       \n",
      " 27  spot_id_delta_lag_2            15529 non-null  float64       \n",
      " 28  spot_id_delta_lag_3            15529 non-null  float64       \n",
      " 29  spot_id_delta_lag_4            15529 non-null  float64       \n",
      " 30  spot_id_delta_lag_5            15529 non-null  float64       \n",
      " 31  spot_id_delta_lag_6            15529 non-null  float64       \n",
      " 32  spot_id_delta_lag_7            15529 non-null  float64       \n",
      " 33  spot_id_delta_lag_8            15529 non-null  float64       \n",
      " 34  spot_id_delta_lag_9            15529 non-null  float64       \n",
      " 35  spot_id_delta_lag_10           15529 non-null  float64       \n",
      " 36  spot_id_delta_lag_11           15529 non-null  float64       \n",
      " 37  spot_id_delta_lag_12           15529 non-null  float64       \n",
      " 38  spot_id_delta_lag_13           15529 non-null  float64       \n",
      " 39  spot_id_delta_lag_14           15529 non-null  float64       \n",
      " 40  spot_id_delta_lag_15           15529 non-null  float64       \n",
      " 41  spot_id_delta_lag_16           15529 non-null  float64       \n",
      " 42  spot_id_delta_lag_17           15529 non-null  float64       \n",
      " 43  spot_id_delta_lag_18           15529 non-null  float64       \n",
      "dtypes: datetime64[ns](1), float64(37), int64(6)\n",
      "memory usage: 5.2 MB\n"
     ]
    }
   ],
   "execution_count": 33
  },
  {
   "metadata": {
    "ExecuteTime": {
     "end_time": "2025-03-20T08:28:40.731337300Z",
     "start_time": "2025-03-20T08:08:53.491335Z"
    }
   },
   "cell_type": "code",
   "source": "",
   "id": "b79d1138e957dcb6",
   "outputs": [],
   "execution_count": null
  }
 ],
 "metadata": {
  "kernelspec": {
   "display_name": "Python 3",
   "language": "python",
   "name": "python3"
  },
  "language_info": {
   "codemirror_mode": {
    "name": "ipython",
    "version": 3
   },
   "file_extension": ".py",
   "mimetype": "text/x-python",
   "name": "python",
   "nbconvert_exporter": "python",
   "pygments_lexer": "ipython3",
   "version": "3.13.0"
  }
 },
 "nbformat": 4,
 "nbformat_minor": 5
}
